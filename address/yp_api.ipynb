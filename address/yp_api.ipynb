{
 "cells": [
  {
   "cell_type": "code",
   "execution_count": 1,
   "metadata": {},
   "outputs": [],
   "source": [
    "import requests, json\n",
    "import pandas as pd\n",
    "import time\n",
    " \n",
    "def get_location(address):\n",
    "    url = 'https://dapi.kakao.com/v2/local/search/address.json?query=' + address\n",
    "    headers = {\"Authorization\": \"\"}\n",
    "    api_json = json.loads(str(requests.get(url,headers=headers).text))\n",
    "    return api_json\n"
   ]
  },
  {
   "cell_type": "code",
   "execution_count": 15,
   "metadata": {},
   "outputs": [],
   "source": [
    "check = get_location('서울대입구역 2호선')"
   ]
  },
  {
   "cell_type": "code",
   "execution_count": 17,
   "metadata": {},
   "outputs": [
    {
     "data": {
      "text/plain": [
       "{'address_name': '서울 관악구 봉천동 979-2',\n",
       " 'category_group_code': 'SW8',\n",
       " 'category_group_name': '지하철역',\n",
       " 'category_name': '교통,수송 > 지하철,전철 > 수도권2호선',\n",
       " 'distance': '',\n",
       " 'id': '21160541',\n",
       " 'phone': '02-6110-2281',\n",
       " 'place_name': '서울대입구역 2호선',\n",
       " 'place_url': 'http://place.map.kakao.com/21160541',\n",
       " 'road_address_name': '서울 관악구 남부순환로 지하 1822',\n",
       " 'x': '126.952713197762',\n",
       " 'y': '37.4812845080678'}"
      ]
     },
     "execution_count": 17,
     "metadata": {},
     "output_type": "execute_result"
    }
   ],
   "source": [
    "check['documents'][0]"
   ]
  },
  {
   "cell_type": "code",
   "execution_count": 18,
   "metadata": {},
   "outputs": [],
   "source": [
    "check = get_location('삼각지역')"
   ]
  },
  {
   "cell_type": "code",
   "execution_count": 19,
   "metadata": {},
   "outputs": [
    {
     "data": {
      "text/plain": [
       "{'documents': [{'address_name': '서울 용산구 한강로1가 228-1',\n",
       "   'category_group_code': 'SW8',\n",
       "   'category_group_name': '지하철역',\n",
       "   'category_name': '교통,수송 > 지하철,전철 > 수도권4호선',\n",
       "   'distance': '',\n",
       "   'id': '25048776',\n",
       "   'phone': '02-6110-4281',\n",
       "   'place_name': '삼각지역 4호선',\n",
       "   'place_url': 'http://place.map.kakao.com/25048776',\n",
       "   'road_address_name': '서울 용산구 한강대로 지하 180',\n",
       "   'x': '126.972922951307',\n",
       "   'y': '37.5344393447708'},\n",
       "  {'address_name': '서울 용산구 한강로1가 228-1',\n",
       "   'category_group_code': 'SW8',\n",
       "   'category_group_name': '지하철역',\n",
       "   'category_name': '교통,수송 > 지하철,전철 > 수도권6호선',\n",
       "   'distance': '',\n",
       "   'id': '11277106',\n",
       "   'phone': '02-6311-6281',\n",
       "   'place_name': '삼각지역 6호선',\n",
       "   'place_url': 'http://place.map.kakao.com/11277106',\n",
       "   'road_address_name': '서울 용산구 한강대로 지하 185',\n",
       "   'x': '126.9740539626925',\n",
       "   'y': '37.535607295640936'},\n",
       "  {'address_name': '서울 용산구 한강로1가 236-5',\n",
       "   'category_group_code': 'PK6',\n",
       "   'category_group_name': '주차장',\n",
       "   'category_name': '교통,수송 > 교통시설 > 주차장 > 공영주차장',\n",
       "   'distance': '',\n",
       "   'id': '20517116',\n",
       "   'phone': '',\n",
       "   'place_name': '삼각지역공영주차장',\n",
       "   'place_url': 'http://place.map.kakao.com/20517116',\n",
       "   'road_address_name': '서울 용산구 한강대로 182',\n",
       "   'x': '126.973687755554',\n",
       "   'y': '37.5345332217356'},\n",
       "  {'address_name': '서울 용산구 한강로1가 231-23',\n",
       "   'category_group_code': 'PK6',\n",
       "   'category_group_name': '주차장',\n",
       "   'category_name': '교통,수송 > 교통시설 > 주차장',\n",
       "   'distance': '',\n",
       "   'id': '35925041',\n",
       "   'phone': '',\n",
       "   'place_name': '삼각지역민영주차장',\n",
       "   'place_url': 'http://place.map.kakao.com/35925041',\n",
       "   'road_address_name': '서울 용산구 한강대로62길 18',\n",
       "   'x': '126.973233069402',\n",
       "   'y': '37.5341312731748'},\n",
       "  {'address_name': '서울 용산구 한강로1가 231-23',\n",
       "   'category_group_code': 'PK6',\n",
       "   'category_group_name': '주차장',\n",
       "   'category_name': '교통,수송 > 교통시설 > 주차장',\n",
       "   'distance': '',\n",
       "   'id': '11475904',\n",
       "   'phone': '',\n",
       "   'place_name': '삼각주차장',\n",
       "   'place_url': 'http://place.map.kakao.com/11475904',\n",
       "   'road_address_name': '서울 용산구 한강대로62길 26',\n",
       "   'x': '126.97329427420362',\n",
       "   'y': '37.533826748725765'},\n",
       "  {'address_name': '서울 용산구 한강로1가 16',\n",
       "   'category_group_code': 'PO3',\n",
       "   'category_group_name': '공공기관',\n",
       "   'category_name': '사회,공공기관 > 행정기관 > 경찰서 > 파출소',\n",
       "   'distance': '',\n",
       "   'id': '12414716',\n",
       "   'phone': '02-2198-0152',\n",
       "   'place_name': '삼각지파출소',\n",
       "   'place_url': 'http://place.map.kakao.com/12414716',\n",
       "   'road_address_name': '서울 용산구 한강대로 198-2',\n",
       "   'x': '126.974700971034',\n",
       "   'y': '37.5361156003694'},\n",
       "  {'address_name': '서울 용산구 한강로1가 278-2',\n",
       "   'category_group_code': '',\n",
       "   'category_group_name': '',\n",
       "   'category_name': '가정,생활 > 화장실',\n",
       "   'distance': '',\n",
       "   'id': '26334638',\n",
       "   'phone': '',\n",
       "   'place_name': '삼각지역 개방화장실',\n",
       "   'place_url': 'http://place.map.kakao.com/26334638',\n",
       "   'road_address_name': '서울 용산구 한강대로 180',\n",
       "   'x': '126.972909374316',\n",
       "   'y': '37.534439341657'},\n",
       "  {'address_name': '서울 용산구 한강로1가',\n",
       "   'category_group_code': '',\n",
       "   'category_group_name': '',\n",
       "   'category_name': '교통,수송 > 도로시설 > 교차로',\n",
       "   'distance': '',\n",
       "   'id': '22905826',\n",
       "   'phone': '',\n",
       "   'place_name': '삼각지교차로',\n",
       "   'place_url': 'http://place.map.kakao.com/22905826',\n",
       "   'road_address_name': '',\n",
       "   'x': '126.974158021004',\n",
       "   'y': '37.5357046265275'},\n",
       "  {'address_name': '서울 용산구 한강로1가 97',\n",
       "   'category_group_code': 'CS2',\n",
       "   'category_group_name': '편의점',\n",
       "   'category_name': '가정,생활 > 편의점 > GS25',\n",
       "   'distance': '',\n",
       "   'id': '1123832358',\n",
       "   'phone': '',\n",
       "   'place_name': 'GS25 S6삼각지역점',\n",
       "   'place_url': 'http://place.map.kakao.com/1123832358',\n",
       "   'road_address_name': '서울 용산구 한강대로 지하 185',\n",
       "   'x': '126.97397814537206',\n",
       "   'y': '37.53563971498255'},\n",
       "  {'address_name': '서울 용산구 용산동3가 1',\n",
       "   'category_group_code': 'CE7',\n",
       "   'category_group_name': '카페',\n",
       "   'category_name': '음식점 > 카페 > 커피전문점 > 컴포즈커피',\n",
       "   'distance': '',\n",
       "   'id': '578968228',\n",
       "   'phone': '02-798-0002',\n",
       "   'place_name': '컴포즈커피 삼각지역점',\n",
       "   'place_url': 'http://place.map.kakao.com/578968228',\n",
       "   'road_address_name': '서울 용산구 한강대로62가길 20',\n",
       "   'x': '126.974934535567',\n",
       "   'y': '37.5346587320564'},\n",
       "  {'address_name': '서울 용산구 한강로1가 50-1',\n",
       "   'category_group_code': 'FD6',\n",
       "   'category_group_name': '음식점',\n",
       "   'category_name': '음식점 > 패스트푸드 > 맘스터치',\n",
       "   'distance': '',\n",
       "   'id': '1531923072',\n",
       "   'phone': '02-794-6888',\n",
       "   'place_name': '맘스터치 삼각지역점',\n",
       "   'place_url': 'http://place.map.kakao.com/1531923072',\n",
       "   'road_address_name': '서울 용산구 한강대로 205',\n",
       "   'x': '126.97335451362103',\n",
       "   'y': '37.53623423631849'},\n",
       "  {'address_name': '서울 용산구 한강로1가 257-6',\n",
       "   'category_group_code': 'FD6',\n",
       "   'category_group_name': '음식점',\n",
       "   'category_name': '음식점 > 간식 > 제과,베이커리 > 파리바게뜨',\n",
       "   'distance': '',\n",
       "   'id': '522148362',\n",
       "   'phone': '02-790-7722',\n",
       "   'place_name': '파리바게뜨 삼각지역점',\n",
       "   'place_url': 'http://place.map.kakao.com/522148362',\n",
       "   'road_address_name': '서울 용산구 백범로99길 62',\n",
       "   'x': '126.9729134108446',\n",
       "   'y': '37.53579174467765'},\n",
       "  {'address_name': '서울 용산구 한강로1가 256',\n",
       "   'category_group_code': '',\n",
       "   'category_group_name': '',\n",
       "   'category_name': '부동산 > 주거시설 > 고시원,고시텔',\n",
       "   'distance': '',\n",
       "   'id': '20809290',\n",
       "   'phone': '02-792-5410',\n",
       "   'place_name': '레지던스원룸텔 삼각지역점',\n",
       "   'place_url': 'http://place.map.kakao.com/20809290',\n",
       "   'road_address_name': '서울 용산구 백범로99길 60',\n",
       "   'x': '126.972822883184',\n",
       "   'y': '37.5358268629034'},\n",
       "  {'address_name': '서울 용산구 한강로2가 426',\n",
       "   'category_group_code': '',\n",
       "   'category_group_name': '',\n",
       "   'category_name': '가정,생활 > 미용 > 미용실',\n",
       "   'distance': '',\n",
       "   'id': '878097048',\n",
       "   'phone': '',\n",
       "   'place_name': '헤어아티스트M 용산삼각지역점',\n",
       "   'place_url': 'http://place.map.kakao.com/878097048',\n",
       "   'road_address_name': '서울 용산구 백범로99길 40',\n",
       "   'x': '126.971637137335',\n",
       "   'y': '37.5358265840729'},\n",
       "  {'address_name': '서울 용산구 한강로1가 224-3',\n",
       "   'category_group_code': 'FD6',\n",
       "   'category_group_name': '음식점',\n",
       "   'category_name': '음식점 > 일식',\n",
       "   'distance': '',\n",
       "   'id': '149249221',\n",
       "   'phone': '',\n",
       "   'place_name': '쿠이신보 삼각지역',\n",
       "   'place_url': 'http://place.map.kakao.com/149249221',\n",
       "   'road_address_name': '서울 용산구 한강대로52길 29-6',\n",
       "   'x': '126.972937517372',\n",
       "   'y': '37.5317021069436'}],\n",
       " 'meta': {'is_end': False,\n",
       "  'pageable_count': 18,\n",
       "  'same_name': {'keyword': '삼각지역', 'region': [], 'selected_region': ''},\n",
       "  'total_count': 32}}"
      ]
     },
     "execution_count": 19,
     "metadata": {},
     "output_type": "execute_result"
    }
   ],
   "source": [
    "check"
   ]
  },
  {
   "cell_type": "code",
   "execution_count": 2,
   "metadata": {},
   "outputs": [],
   "source": [
    "import pandas as pd\n",
    "\n",
    "df = pd.read_csv('./bookstores.csv')"
   ]
  },
  {
   "cell_type": "code",
   "execution_count": 6,
   "metadata": {},
   "outputs": [
    {
     "data": {
      "text/html": [
       "<div>\n",
       "<style scoped>\n",
       "    .dataframe tbody tr th:only-of-type {\n",
       "        vertical-align: middle;\n",
       "    }\n",
       "\n",
       "    .dataframe tbody tr th {\n",
       "        vertical-align: top;\n",
       "    }\n",
       "\n",
       "    .dataframe thead th {\n",
       "        text-align: right;\n",
       "    }\n",
       "</style>\n",
       "<table border=\"1\" class=\"dataframe\">\n",
       "  <thead>\n",
       "    <tr style=\"text-align: right;\">\n",
       "      <th></th>\n",
       "      <th>bookstore</th>\n",
       "      <th>branch</th>\n",
       "      <th>lati</th>\n",
       "      <th>long</th>\n",
       "    </tr>\n",
       "  </thead>\n",
       "  <tbody>\n",
       "    <tr>\n",
       "      <th>0</th>\n",
       "      <td>영풍문고</td>\n",
       "      <td>종각 종로본점</td>\n",
       "      <td>37.568729</td>\n",
       "      <td>126.995082</td>\n",
       "    </tr>\n",
       "    <tr>\n",
       "      <th>1</th>\n",
       "      <td>영풍문고</td>\n",
       "      <td>스타필드 코엑스몰점</td>\n",
       "      <td>37.514784</td>\n",
       "      <td>127.054362</td>\n",
       "    </tr>\n",
       "    <tr>\n",
       "      <th>2</th>\n",
       "      <td>영풍문고</td>\n",
       "      <td>강남역점</td>\n",
       "      <td>37.491515</td>\n",
       "      <td>127.030540</td>\n",
       "    </tr>\n",
       "    <tr>\n",
       "      <th>3</th>\n",
       "      <td>영풍문고</td>\n",
       "      <td>여의도 IFC몰점</td>\n",
       "      <td>37.528110</td>\n",
       "      <td>126.926080</td>\n",
       "    </tr>\n",
       "    <tr>\n",
       "      <th>4</th>\n",
       "      <td>영풍문고</td>\n",
       "      <td>김포공항 롯데점</td>\n",
       "      <td>37.576820</td>\n",
       "      <td>126.814220</td>\n",
       "    </tr>\n",
       "  </tbody>\n",
       "</table>\n",
       "</div>"
      ],
      "text/plain": [
       "  bookstore      branch       lati        long\n",
       "0      영풍문고     종각 종로본점  37.568729  126.995082\n",
       "1      영풍문고  스타필드 코엑스몰점  37.514784  127.054362\n",
       "2      영풍문고        강남역점  37.491515  127.030540\n",
       "3      영풍문고   여의도 IFC몰점  37.528110  126.926080\n",
       "4      영풍문고    김포공항 롯데점  37.576820  126.814220"
      ]
     },
     "execution_count": 6,
     "metadata": {},
     "output_type": "execute_result"
    }
   ],
   "source": [
    "df.head()"
   ]
  },
  {
   "cell_type": "code",
   "execution_count": 5,
   "metadata": {},
   "outputs": [],
   "source": [
    "store_dict = {'종각 종로본점': '서울특별시 종로구 청계천로 41',\n",
    "'스타필드 코엑스몰점': '서울특별시 강남구 삼성동 159',\n",
    "'강남역점': '서울특별시 강남구 강남대로 408',\n",
    "'여의도 IFC몰점': '서울특별시 영등포구 여의도동 23-1',\n",
    "'김포공항 롯데점': '서울특별시 강서구 방화동 886',\n",
    "'홍대점': '서울특별시 마포구 동교동 159-5',\n",
    "'가산 마리오점': '서울특별시 금천구 가산동 벚꽃로 266',\n",
    "'강남 포스코점': '서울시 강남구 테헤란로 440',\n",
    "'용산아이파크몰점': '서울특별시 용산구 한강로3가 한강대로23길 55',\n",
    "'왕십리역점': '서울특별시 성동구 왕십리광장로 17',\n",
    "'신림 타임스트림점': '서울특별시 관악구 신림로 330',\n",
    "'미아 롯데점': '서울특별시 강북구 도봉로 62',\n",
    "'사당역점': '서울특별시 서초구 방배천로 11',\n",
    "'인천 터미널점': '인천광역시 미추홀구 연남로 35',\n",
    "'수원 NC점': '경기도 수원시 권선구 권선동 1189',\n",
    "'의정부 신세계점': '경기도 의정부시 평화로 525',\n",
    "'죽전 이마트점': '경기도 용인시 수지구 포은대로 552',\n",
    "'스타필드 하남점': '경기도 하남시 미사대로 750',\n",
    "'분당 서현점': '경기도 성남시 분당구 분당로 55',\n",
    "'스타필드 고양점': '경기도 고양시 덕양구 고양대로 1955',\n",
    "'인천 스퀘어원점': '인천광역시 연수구 청능대로 210',\n",
    "'스타필드시티 위례점': '경기도 하남시 위례대로 200',\n",
    "'구리 롯데아울렛점': '경기도 구리시 동구릉로136번길 47',\n",
    "'스타필드 안성점': '경기 안성시 공도읍 서동대로 3930-39',\n",
    "'동탄 롯데점': '경기도 화성시 동탄역로 160',\n",
    "'스타필드 수원점': '경기 수원시 장안구 수성로 175',\n",
    "'세종이마트점': '세종특별자치시 금송로 687',\n",
    "'천안점': '충청남도 천안시 서북구 쌍용대로 202',\n",
    "'대전 터미널점': '대전광역시 동구 용전동 68-2',\n",
    "'청주점': '충청북도 청주시 흥덕구 가경동 1416',\n",
    "'유성점': '대전광역시 유성구 대학로 60',\n",
    "'경산 이마트점': '경상북도 경산시 옥산로 227',\n",
    "'구미 롯데마트점': '경상북도 구미시 구미대로 22길 11',\n",
    "'대구역 롯데점': '대구광역시 북구 태평로 161',\n",
    "'광주 터미널점': '광주광역시 서구 광천동 49-1',\n",
    "'목포 터미널점': '전라남도 목포시 상동 220',\n",
    "'전주 터미널점': '전라북도 전주시 덕진구 가리내로 70',\n",
    "'군산 롯데아울렛점': '전라북도 군산시 조촌로 130',\n",
    "'광복 롯데점': '부산광역시 중구 중앙동7가 20-1',\n",
    "'부산대점': '부산광역시 금정구 장전동 40',\n",
    "'마산 롯데점': '경상남도 창원시 마산합포구 신포동2가',\n",
    "'부산 남포점': '부산광역시 중구 남포동5가 12-1',\n",
    "'부산 하단점': '부산광역시 사하구 낙동남로 1413',\n",
    "'센텀시티점': '부산광역시 해운대구 센텀4로 15'}"
   ]
  },
  {
   "cell_type": "code",
   "execution_count": 7,
   "metadata": {},
   "outputs": [],
   "source": [
    "col = ['bookstore', 'branch', 'lati', 'long']"
   ]
  },
  {
   "cell_type": "code",
   "execution_count": 8,
   "metadata": {},
   "outputs": [],
   "source": [
    "data = pd.DataFrame(columns=col)"
   ]
  },
  {
   "cell_type": "code",
   "execution_count": 16,
   "metadata": {},
   "outputs": [
    {
     "data": {
      "text/plain": [
       "'서울특별시 금천구 가산동 벚꽃로 266'"
      ]
     },
     "execution_count": 16,
     "metadata": {},
     "output_type": "execute_result"
    }
   ],
   "source": [
    "store_dict['가산 마리오점']"
   ]
  },
  {
   "cell_type": "code",
   "execution_count": 23,
   "metadata": {},
   "outputs": [],
   "source": [
    "check = get_location(store_dict['가산 마리오점'])"
   ]
  },
  {
   "cell_type": "code",
   "execution_count": 30,
   "metadata": {},
   "outputs": [
    {
     "data": {
      "text/plain": [
       "'126.885080837326'"
      ]
     },
     "execution_count": 30,
     "metadata": {},
     "output_type": "execute_result"
    }
   ],
   "source": [
    "check['documents'][0]['address']['x'] # long"
   ]
  },
  {
   "cell_type": "code",
   "execution_count": 31,
   "metadata": {},
   "outputs": [
    {
     "data": {
      "text/plain": [
       "'37.4784457675388'"
      ]
     },
     "execution_count": 31,
     "metadata": {},
     "output_type": "execute_result"
    }
   ],
   "source": [
    "check['documents'][0]['address']['y'] # lati"
   ]
  },
  {
   "cell_type": "code",
   "execution_count": 33,
   "metadata": {},
   "outputs": [],
   "source": [
    "bookstore = '영풍문고'"
   ]
  },
  {
   "cell_type": "code",
   "execution_count": 35,
   "metadata": {},
   "outputs": [],
   "source": [
    "li = []\n",
    "for store, add in store_dict.items():\n",
    "    data = {}\n",
    "    check = get_location(store_dict[store])\n",
    "    lo = check['documents'][0]['address']['x']\n",
    "    la = check['documents'][0]['address']['y']\n",
    "    data = {'bookstore' : bookstore, 'branch' : store, 'lati' : la, 'long' : lo}\n",
    "    li.append(data)"
   ]
  },
  {
   "cell_type": "code",
   "execution_count": 37,
   "metadata": {},
   "outputs": [],
   "source": [
    "df = pd.DataFrame(li)"
   ]
  },
  {
   "cell_type": "code",
   "execution_count": 39,
   "metadata": {},
   "outputs": [],
   "source": [
    "df.to_csv('./bookstores.csv')"
   ]
  },
  {
   "cell_type": "code",
   "execution_count": 40,
   "metadata": {},
   "outputs": [],
   "source": [
    "cc = pd.read_csv('./bookstores.csv')"
   ]
  },
  {
   "cell_type": "code",
   "execution_count": 43,
   "metadata": {},
   "outputs": [
    {
     "data": {
      "text/html": [
       "<div>\n",
       "<style scoped>\n",
       "    .dataframe tbody tr th:only-of-type {\n",
       "        vertical-align: middle;\n",
       "    }\n",
       "\n",
       "    .dataframe tbody tr th {\n",
       "        vertical-align: top;\n",
       "    }\n",
       "\n",
       "    .dataframe thead th {\n",
       "        text-align: right;\n",
       "    }\n",
       "</style>\n",
       "<table border=\"1\" class=\"dataframe\">\n",
       "  <thead>\n",
       "    <tr style=\"text-align: right;\">\n",
       "      <th></th>\n",
       "      <th>bookstore</th>\n",
       "      <th>branch</th>\n",
       "      <th>lati</th>\n",
       "      <th>long</th>\n",
       "    </tr>\n",
       "  </thead>\n",
       "  <tbody>\n",
       "    <tr>\n",
       "      <th>0</th>\n",
       "      <td>영풍문고</td>\n",
       "      <td>종각 종로본점</td>\n",
       "      <td>37.5696679696981</td>\n",
       "      <td>126.982179278549</td>\n",
       "    </tr>\n",
       "    <tr>\n",
       "      <th>1</th>\n",
       "      <td>영풍문고</td>\n",
       "      <td>스타필드 코엑스몰점</td>\n",
       "      <td>37.5125211887102</td>\n",
       "      <td>127.058819250731</td>\n",
       "    </tr>\n",
       "    <tr>\n",
       "      <th>2</th>\n",
       "      <td>영풍문고</td>\n",
       "      <td>강남역점</td>\n",
       "      <td>37.499217028391</td>\n",
       "      <td>127.027537035005</td>\n",
       "    </tr>\n",
       "    <tr>\n",
       "      <th>3</th>\n",
       "      <td>영풍문고</td>\n",
       "      <td>여의도 IFC몰점</td>\n",
       "      <td>37.5255474148714</td>\n",
       "      <td>126.926208872494</td>\n",
       "    </tr>\n",
       "    <tr>\n",
       "      <th>4</th>\n",
       "      <td>영풍문고</td>\n",
       "      <td>김포공항 롯데점</td>\n",
       "      <td>37.5668093694949</td>\n",
       "      <td>126.802955054368</td>\n",
       "    </tr>\n",
       "  </tbody>\n",
       "</table>\n",
       "</div>"
      ],
      "text/plain": [
       "  bookstore      branch              lati              long\n",
       "0      영풍문고     종각 종로본점  37.5696679696981  126.982179278549\n",
       "1      영풍문고  스타필드 코엑스몰점  37.5125211887102  127.058819250731\n",
       "2      영풍문고        강남역점   37.499217028391  127.027537035005\n",
       "3      영풍문고   여의도 IFC몰점  37.5255474148714  126.926208872494\n",
       "4      영풍문고    김포공항 롯데점  37.5668093694949  126.802955054368"
      ]
     },
     "execution_count": 43,
     "metadata": {},
     "output_type": "execute_result"
    }
   ],
   "source": [
    "df.head()"
   ]
  },
  {
   "cell_type": "code",
   "execution_count": 42,
   "metadata": {},
   "outputs": [
    {
     "data": {
      "text/html": [
       "<div>\n",
       "<style scoped>\n",
       "    .dataframe tbody tr th:only-of-type {\n",
       "        vertical-align: middle;\n",
       "    }\n",
       "\n",
       "    .dataframe tbody tr th {\n",
       "        vertical-align: top;\n",
       "    }\n",
       "\n",
       "    .dataframe thead th {\n",
       "        text-align: right;\n",
       "    }\n",
       "</style>\n",
       "<table border=\"1\" class=\"dataframe\">\n",
       "  <thead>\n",
       "    <tr style=\"text-align: right;\">\n",
       "      <th></th>\n",
       "      <th>Unnamed: 0</th>\n",
       "      <th>bookstore</th>\n",
       "      <th>branch</th>\n",
       "      <th>lati</th>\n",
       "      <th>long</th>\n",
       "    </tr>\n",
       "  </thead>\n",
       "  <tbody>\n",
       "    <tr>\n",
       "      <th>0</th>\n",
       "      <td>0</td>\n",
       "      <td>영풍문고</td>\n",
       "      <td>종각 종로본점</td>\n",
       "      <td>37.569668</td>\n",
       "      <td>126.982179</td>\n",
       "    </tr>\n",
       "    <tr>\n",
       "      <th>1</th>\n",
       "      <td>1</td>\n",
       "      <td>영풍문고</td>\n",
       "      <td>스타필드 코엑스몰점</td>\n",
       "      <td>37.512521</td>\n",
       "      <td>127.058819</td>\n",
       "    </tr>\n",
       "    <tr>\n",
       "      <th>2</th>\n",
       "      <td>2</td>\n",
       "      <td>영풍문고</td>\n",
       "      <td>강남역점</td>\n",
       "      <td>37.499217</td>\n",
       "      <td>127.027537</td>\n",
       "    </tr>\n",
       "    <tr>\n",
       "      <th>3</th>\n",
       "      <td>3</td>\n",
       "      <td>영풍문고</td>\n",
       "      <td>여의도 IFC몰점</td>\n",
       "      <td>37.525547</td>\n",
       "      <td>126.926209</td>\n",
       "    </tr>\n",
       "    <tr>\n",
       "      <th>4</th>\n",
       "      <td>4</td>\n",
       "      <td>영풍문고</td>\n",
       "      <td>김포공항 롯데점</td>\n",
       "      <td>37.566809</td>\n",
       "      <td>126.802955</td>\n",
       "    </tr>\n",
       "  </tbody>\n",
       "</table>\n",
       "</div>"
      ],
      "text/plain": [
       "   Unnamed: 0 bookstore      branch       lati        long\n",
       "0           0      영풍문고     종각 종로본점  37.569668  126.982179\n",
       "1           1      영풍문고  스타필드 코엑스몰점  37.512521  127.058819\n",
       "2           2      영풍문고        강남역점  37.499217  127.027537\n",
       "3           3      영풍문고   여의도 IFC몰점  37.525547  126.926209\n",
       "4           4      영풍문고    김포공항 롯데점  37.566809  126.802955"
      ]
     },
     "execution_count": 42,
     "metadata": {},
     "output_type": "execute_result"
    }
   ],
   "source": [
    "cc.head()"
   ]
  },
  {
   "cell_type": "code",
   "execution_count": null,
   "metadata": {},
   "outputs": [],
   "source": []
  }
 ],
 "metadata": {
  "kernelspec": {
   "display_name": "els",
   "language": "python",
   "name": "python3"
  },
  "language_info": {
   "codemirror_mode": {
    "name": "ipython",
    "version": 3
   },
   "file_extension": ".py",
   "mimetype": "text/x-python",
   "name": "python",
   "nbconvert_exporter": "python",
   "pygments_lexer": "ipython3",
   "version": "3.8.18"
  }
 },
 "nbformat": 4,
 "nbformat_minor": 2
}
