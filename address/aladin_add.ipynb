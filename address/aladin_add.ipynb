{
 "cells": [
  {
   "cell_type": "code",
   "execution_count": 30,
   "metadata": {},
   "outputs": [],
   "source": [
    "from geopy.geocoders import Nominatim\n",
    "import requests\n",
    "from bs4 import BeautifulSoup\n",
    "import json"
   ]
  },
  {
   "cell_type": "code",
   "execution_count": 34,
   "metadata": {},
   "outputs": [],
   "source": [
    "import pandas as pd"
   ]
  },
  {
   "cell_type": "code",
   "execution_count": 2,
   "metadata": {},
   "outputs": [
    {
     "name": "stderr",
     "output_type": "stream",
     "text": [
      "/var/folders/d6/d15px6nn599bb66tcmrq23380000gn/T/ipykernel_2761/750855634.py:9: DeprecationWarning: The 'text' argument to find()-type methods is deprecated. Use 'string' instead.\n",
      "  element = soup.find('a', href=True, text='가로수길점')\n"
     ]
    }
   ],
   "source": [
    "# 웹 페이지에 요청을 보내고 HTML 응답을 받음\n",
    "url = 'https://www.aladin.co.kr/m/main.aspx?tab=usedstore'\n",
    "response = requests.get(url)\n",
    "\n",
    "# BeautifulSoup 객체를 생성하여 HTML을 파싱\n",
    "soup = BeautifulSoup(response.text, 'html.parser')\n",
    "\n",
    "# 원하는 요소를 찾음\n",
    "element = soup.find('a', href=True, text='가로수길점')"
   ]
  },
  {
   "cell_type": "code",
   "execution_count": 9,
   "metadata": {},
   "outputs": [
    {
     "name": "stdout",
     "output_type": "stream",
     "text": [
      "Sinsa\n"
     ]
    }
   ],
   "source": [
    "\n",
    "# 'href' 속성에서 필요한 값 추출\n",
    "if element:\n",
    "    href_value = element['href']\n",
    "    offcode = href_value.split('=')[1]\n",
    "    print(offcode)  # 결과 출력\n",
    "else:\n",
    "    print(\"Element not found\")\n"
   ]
  },
  {
   "cell_type": "code",
   "execution_count": 14,
   "metadata": {},
   "outputs": [],
   "source": [
    "# 모든 링크를 찾음\n",
    "links = soup.select('.new_store_list .OffStoreList a')\n",
    "\n",
    "# 딕셔너리 생성\n",
    "store_dict = {}\n",
    "for link in links:\n",
    "    href = link['href']\n",
    "    offcode = href.split('=')[1].split('&')[0]\n",
    "    store_name = link.get_text()\n",
    "    store_dict[offcode] = store_name.strip()"
   ]
  },
  {
   "cell_type": "code",
   "execution_count": 15,
   "metadata": {},
   "outputs": [
    {
     "data": {
      "text/plain": [
       "{'Sinsa': '가로수길점',\n",
       " 'Gangnam': '강남점',\n",
       " 'Gangseo': '강서홈플러스점',\n",
       " 'Geondae': '건대점',\n",
       " 'NowonStn': '노원역점',\n",
       " 'Daehakro': '대학로점',\n",
       " 'mokdong': '목동점new',\n",
       " 'snue': '서울대입구역점',\n",
       " 'suyu': '수유점',\n",
       " 'Sillim': '신림점',\n",
       " 'Sinchon': '신촌점',\n",
       " 'Yeonsinnae': '연신내점',\n",
       " 'Yeongdeungpo': '영등포점',\n",
       " 'isu': '이수역점',\n",
       " 'Jamsil': '잠실롯데월드타워점',\n",
       " 'Sincheon': '잠실새내역점',\n",
       " 'Jongno': '종로점',\n",
       " 'cheonho': '천호점',\n",
       " 'Hapjeong': '합정점new',\n",
       " 'd2': '동탄2하나로마트점',\n",
       " 'Dongtan': '동탄점',\n",
       " 'beomgye': '범계점new',\n",
       " 'Bucheon': '부천점',\n",
       " 'Bundang': '분당서현점',\n",
       " 'yatap': '분당야탑점',\n",
       " 'Sanbon': '산본점',\n",
       " 'Suwon2': '수원시청역점',\n",
       " 'Suwon': '수원점',\n",
       " 'suji': '수지점new',\n",
       " 'uijeongbu': '의정부홈플러스점',\n",
       " 'ilsan': '일산점커피',\n",
       " 'pyeongtaek': '평택점',\n",
       " 'Hwajeong': '화정점',\n",
       " 'Sangmu': '광주상무점',\n",
       " 'Gwangju': '광주충장로점',\n",
       " 'Gimhae': '김해점',\n",
       " 'Daegu': '대구동성로점',\n",
       " 'SangIn': '대구상인점',\n",
       " 'DaejeonCityhall': '대전시청역점',\n",
       " 'Daejeon': '대전은행점',\n",
       " 'Edaegu': '동대구역점',\n",
       " 'masan': '마산합성점',\n",
       " 'killy': '부산 경성대부경대역점',\n",
       " 'Deokcheon': '부산덕천점',\n",
       " 'Dongbo': '부산서면동보점',\n",
       " 'Centum': '부산센텀점',\n",
       " 'Ulsan': '울산점',\n",
       " 'Gyesan': '인천 계산홈플러스점',\n",
       " 'Guwol': '인천구월점',\n",
       " 'Songdo': '인천송도점',\n",
       " 'cheongna': '인천청라점',\n",
       " 'Jeonju': '전주점',\n",
       " 'changwon': '창원상남점',\n",
       " 'Cheonan': '천안신불당점',\n",
       " 'Cheongju': '청주점'}"
      ]
     },
     "execution_count": 15,
     "metadata": {},
     "output_type": "execute_result"
    }
   ],
   "source": [
    "store_dict"
   ]
  },
  {
   "cell_type": "code",
   "execution_count": 27,
   "metadata": {},
   "outputs": [
    {
     "name": "stderr",
     "output_type": "stream",
     "text": [
      "/var/folders/d6/d15px6nn599bb66tcmrq23380000gn/T/ipykernel_2761/310695341.py:9: DeprecationWarning: The 'text' argument to find()-type methods is deprecated. Use 'string' instead.\n",
      "  address_tag = soup.find('li', text=lambda text: text and '주소 :' in text)\n"
     ]
    }
   ],
   "source": [
    "address_dict = {}\n",
    "\n",
    "for store_code, store_name in store_dict.items():\n",
    "    url = f'https://www.aladin.co.kr/m/off/main.aspx?offcode={store_code}&start=momain'\n",
    "    response = requests.get(url)\n",
    "    soup = BeautifulSoup(response.text, 'html.parser')\n",
    "\n",
    "    # 주소 정보가 있는 <li> 태그 찾기\n",
    "    address_tag = soup.find('li', text=lambda text: text and '주소 :' in text)\n",
    "    \n",
    "    if address_tag:\n",
    "        address = address_tag.text.replace('주소 :', '').strip()\n",
    "        address_dict[store_name] = address"
   ]
  },
  {
   "cell_type": "code",
   "execution_count": 28,
   "metadata": {},
   "outputs": [
    {
     "data": {
      "text/plain": [
       "{'가로수길점': '서울특별시 강남구 강남대로 152길 45',\n",
       " '강남점': '서울특별시 강남구 강남대로 438, 지하 1층 (역삼동 스타플렉스)',\n",
       " '강서홈플러스점': '서울특별시 강서구 화곡로 398  홈플러스강서점 4층',\n",
       " '건대점': '서울특별시 광진구 능동로 111 지하 1층',\n",
       " '노원역점': '서울 노원구 동일로 1413 남성빌딩 지하1층',\n",
       " '대학로점': '서울특별시 종로구 창경궁로 236, 이화빌딩 지하 1층 (명륜4가)',\n",
       " '목동점new': '서울 양천구 목동동로 309 행복한백화점 4층',\n",
       " '서울대입구역점': '서울특별시 관악구 관악로 171 지하1층',\n",
       " '수유점': '서울특별시 강북구 도봉로 342 2층',\n",
       " '신림점': '서울특별시 관악구 신림로 318, 청암위브 지하 1층',\n",
       " '신촌점': '서울특별시 서대문구 연세로 21 지하 1층 (창천동)',\n",
       " '연신내점': '서울특별시 은평구 연서로 214',\n",
       " '영등포점': '서울 영등포구 영중로 12',\n",
       " '이수역점': '서울특별시 동작구 사당로 310',\n",
       " '잠실롯데월드타워점': '서울특별시 송파구 올림픽로 305 지하 1층(잠실역 8호선 10번/11번 출구 밑)',\n",
       " '잠실새내역점': '서울특별시 송파구 올림픽로 124 지하 1층',\n",
       " '종로점': '서울특별시 종로구 삼일대로 395 지하 1층 (종로2가)',\n",
       " '천호점': '서울시 강동구 올림픽로 654, 지하 1층',\n",
       " '합정점new': '서울특별시 마포구 양화로 78 지하 1층',\n",
       " '동탄2하나로마트점': '경기 화성시 동탄순환대로27길 30 농협 동탄유통센터 2층',\n",
       " '동탄점': '경기도 화성시 동탄중앙로 200 타임테라스 B블럭 4층 (홈플러스 입점 상가동)',\n",
       " '범계점new': '경기도 안양시 동안구 시민대로 175, 지하 1층',\n",
       " '부천점': '경기도 부천시 부천로 4, 경동빌딩 지하 1층 (심곡동)',\n",
       " '분당서현점': '경기도 성남시 분당구 분당로53번길 9, 에이원프라자 지하 1층',\n",
       " '분당야탑점': '경기도 성남시 분당구 야탑로 69번길 21 지하 1층',\n",
       " '산본점': '경기도 군포시 산본로 323번길 16-31, 한솔프라자 지하 1층',\n",
       " '수원시청역점': '경기도 수원시 팔달구 권광로191',\n",
       " '수원점': '경기도 수원시 팔달구 덕영대로 925 지하 1층 (매산로1가)',\n",
       " '수지점new': '경기 용인시 수지구 풍덕천로 135, 2층',\n",
       " '의정부홈플러스점': '경기 의정부시 청사로 38 홈플러스 의정부점 4층',\n",
       " '일산점커피': '경기도 고양시 일산동구 중앙로1275번길 56 (장항동), 호수공원광장 루비튜스데이 3층',\n",
       " '평택점': '경기 평택시 평택로32번길25 2층',\n",
       " '화정점': '경기도 고양시 덕양구 화신로260번길 51 지하 1층',\n",
       " '광주상무점': '광주광역시 서구 상무평화로 79 팔복빌딩 지하 1층',\n",
       " '광주충장로점': '광주광역시 동구 금남로 238, 무등빌딩 지하2층 (금남로2가)',\n",
       " '김해점': '경상남도 김해시 김해대로 2342 아이스퀘어몰 2층',\n",
       " '대구동성로점': '대구광역시 중구 국채보상로 582, 미도빌딩 지하 1층 (남일동)',\n",
       " '대구상인점': '대구광역시 달서구 월배로 216 지하 1층',\n",
       " '대전시청역점': '대전광역시 서구 둔산로 125 둔산동 스타 빌딩 3층',\n",
       " '대전은행점': '대전광역시 중구 중앙로 160, 밀라노21 지하 1층 (은행동)',\n",
       " '동대구역점': '대구광역시 동구 동대구로 530, 동대구역 지하철 1호선 지하1층',\n",
       " '마산합성점': '경상남도 창원시 마산회원구 3·15대로 758, 대현프리몰 창원점 JK열 9~16호, I열 11호 (합성동)',\n",
       " '부산 경성대부경대역점': '부산광역시 남구 수영로 300 비젼프라자 2층',\n",
       " '부산덕천점': '부산광역시 북구 만덕대로 27번길 3 (덕천동 398-4)',\n",
       " '부산서면동보점': '부산광역시 진구 중앙대로 704 동보프라자 2,3층',\n",
       " '부산센텀점': '부산광역시 해운대구 센텀동로 9 트럼프월드상가 D동 2층',\n",
       " '울산점': '울산광역시 남구 삼산로 267번길 8 2층 (삼산동)',\n",
       " '인천 계산홈플러스점': '인천광역시 계양구 오조산공원로 14 홈플러스 계산점 4층',\n",
       " '인천구월점': '인천광역시 남동구 인하로 497-22 2,3층',\n",
       " '인천송도점': '인천광역시 연수구 송도국제대로 157 오네스타 지하 1층',\n",
       " '인천청라점': '인천광역시 서구 중봉대로586번길 15, 청연프라자 2층',\n",
       " '전주점': '전라북도 전주시 완산구 전주객사4길 46, 기린오피스텔 지하1층 (고사동)',\n",
       " '창원상남점': '경상남도 창원시 성산구 상남로 93 공영주차빌딩 지하1층',\n",
       " '천안신불당점': '천안시 서북구 불당25로 146 리치타워 2층',\n",
       " '청주점': '충청북도 청주시 상당구 성안로 13 씨유멀티플랙스 지하1층'}"
      ]
     },
     "execution_count": 28,
     "metadata": {},
     "output_type": "execute_result"
    }
   ],
   "source": [
    "address_dict"
   ]
  },
  {
   "cell_type": "code",
   "execution_count": 31,
   "metadata": {},
   "outputs": [],
   "source": [
    "def get_location(address):\n",
    "    url = 'https://dapi.kakao.com/v2/local/search/address.json?query=' + address\n",
    "    headers = {\"Authorization\": \"KakaoAK 7b63a478daaa05d5c608fb8d0990f826\"}\n",
    "    api_json = json.loads(str(requests.get(url,headers=headers).text))\n",
    "    return api_json"
   ]
  },
  {
   "cell_type": "code",
   "execution_count": 33,
   "metadata": {},
   "outputs": [
    {
     "data": {
      "text/plain": [
       "'서울특별시 강남구 강남대로 152길 45'"
      ]
     },
     "execution_count": 33,
     "metadata": {},
     "output_type": "execute_result"
    }
   ],
   "source": [
    "address_dict['가로수길점']"
   ]
  },
  {
   "cell_type": "code",
   "execution_count": 32,
   "metadata": {},
   "outputs": [
    {
     "data": {
      "text/plain": [
       "{'documents': [{'address': {'address_name': '서울 강남구 신사동 536-5',\n",
       "    'b_code': '1168010700',\n",
       "    'h_code': '1168051000',\n",
       "    'main_address_no': '536',\n",
       "    'mountain_yn': 'N',\n",
       "    'region_1depth_name': '서울',\n",
       "    'region_2depth_name': '강남구',\n",
       "    'region_3depth_h_name': '신사동',\n",
       "    'region_3depth_name': '신사동',\n",
       "    'sub_address_no': '5',\n",
       "    'x': '127.02298624236',\n",
       "    'y': '37.5183944462457'},\n",
       "   'address_name': '서울 강남구 강남대로152길 45',\n",
       "   'address_type': 'ROAD_ADDR',\n",
       "   'road_address': {'address_name': '서울 강남구 강남대로152길 45',\n",
       "    'building_name': '우림빌딩',\n",
       "    'main_building_no': '45',\n",
       "    'region_1depth_name': '서울',\n",
       "    'region_2depth_name': '강남구',\n",
       "    'region_3depth_name': '신사동',\n",
       "    'road_name': '강남대로152길',\n",
       "    'sub_building_no': '',\n",
       "    'underground_yn': 'N',\n",
       "    'x': '127.02298624236',\n",
       "    'y': '37.5183944462457',\n",
       "    'zone_no': '06035'},\n",
       "   'x': '127.02298624236',\n",
       "   'y': '37.5183944462457'}],\n",
       " 'meta': {'is_end': True, 'pageable_count': 1, 'total_count': 1}}"
      ]
     },
     "execution_count": 32,
     "metadata": {},
     "output_type": "execute_result"
    }
   ],
   "source": [
    "check = get_location(address_dict['가로수길점'])\n",
    "check"
   ]
  },
  {
   "cell_type": "code",
   "execution_count": 36,
   "metadata": {},
   "outputs": [],
   "source": [
    "bookstore = '알라딘'"
   ]
  },
  {
   "cell_type": "code",
   "execution_count": 40,
   "metadata": {},
   "outputs": [],
   "source": [
    "col = ['bookstore', 'branch', 'lati', 'long']\n",
    "data = pd.DataFrame(columns=col)\n",
    "\n",
    "li = []\n",
    "for store, add in address_dict.items():\n",
    "    data = {}\n",
    "    check = get_location(address_dict[store])\n",
    "    lo = check['documents'][0]['address']['x']\n",
    "    la = check['documents'][0]['address']['y']\n",
    "    data = {'bookstore' : bookstore, 'branch' : store, 'lati' : la, 'long' : lo}\n",
    "    li.append(data)"
   ]
  },
  {
   "cell_type": "code",
   "execution_count": 41,
   "metadata": {},
   "outputs": [],
   "source": [
    "df = pd.DataFrame(li)"
   ]
  },
  {
   "cell_type": "code",
   "execution_count": 44,
   "metadata": {},
   "outputs": [],
   "source": [
    "df.to_csv('./bookstores_ala.csv')"
   ]
  },
  {
   "cell_type": "markdown",
   "metadata": {},
   "source": [
    "# concat"
   ]
  },
  {
   "cell_type": "code",
   "execution_count": 47,
   "metadata": {},
   "outputs": [],
   "source": [
    "df1 = pd.read_csv('./bookstores_ala.csv')\n",
    "df2 = pd.read_csv('./bookstores_yp.csv')\n",
    "df3 = pd.read_excel('./bookstores_gyo.xlsx')"
   ]
  },
  {
   "cell_type": "code",
   "execution_count": 51,
   "metadata": {},
   "outputs": [],
   "source": [
    "df1.drop('Unnamed: 0', axis=1, inplace=True)\n",
    "df2.drop('Unnamed: 0', axis=1, inplace=True)\n"
   ]
  },
  {
   "cell_type": "code",
   "execution_count": 54,
   "metadata": {},
   "outputs": [],
   "source": [
    "df3.drop(['Column1', 'address'], axis=1, inplace=True)"
   ]
  },
  {
   "cell_type": "code",
   "execution_count": 55,
   "metadata": {},
   "outputs": [],
   "source": [
    "df = pd.concat([df1, df2, df3])"
   ]
  },
  {
   "cell_type": "code",
   "execution_count": 59,
   "metadata": {},
   "outputs": [],
   "source": [
    "df.reset_index(drop=True, inplace=True)"
   ]
  },
  {
   "cell_type": "code",
   "execution_count": 60,
   "metadata": {},
   "outputs": [],
   "source": [
    "df.to_csv('./store_final.csv')"
   ]
  },
  {
   "cell_type": "code",
   "execution_count": null,
   "metadata": {},
   "outputs": [],
   "source": []
  }
 ],
 "metadata": {
  "kernelspec": {
   "display_name": "els",
   "language": "python",
   "name": "python3"
  },
  "language_info": {
   "codemirror_mode": {
    "name": "ipython",
    "version": 3
   },
   "file_extension": ".py",
   "mimetype": "text/x-python",
   "name": "python",
   "nbconvert_exporter": "python",
   "pygments_lexer": "ipython3",
   "version": "3.8.18"
  }
 },
 "nbformat": 4,
 "nbformat_minor": 2
}
