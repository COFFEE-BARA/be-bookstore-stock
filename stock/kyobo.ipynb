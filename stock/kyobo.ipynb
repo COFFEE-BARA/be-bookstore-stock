{
 "cells": [
  {
   "cell_type": "code",
   "execution_count": 2,
   "metadata": {},
   "outputs": [],
   "source": [
    "import requests\n",
    "from bs4 import BeautifulSoup"
   ]
  },
  {
   "cell_type": "code",
   "execution_count": 41,
   "metadata": {},
   "outputs": [],
   "source": [
    "from selenium import webdriver\n",
    "from selenium.webdriver.common.by import By\n",
    "from selenium.webdriver.support.ui import WebDriverWait\n",
    "from selenium.webdriver.support import expected_conditions as EC"
   ]
  },
  {
   "cell_type": "code",
   "execution_count": 42,
   "metadata": {},
   "outputs": [],
   "source": [
    "from urllib.parse import urlparse, parse_qs\n",
    "import re"
   ]
  },
  {
   "cell_type": "markdown",
   "metadata": {},
   "source": [
    "# 실험"
   ]
  },
  {
   "cell_type": "code",
   "execution_count": 2,
   "metadata": {},
   "outputs": [],
   "source": [
    "\n",
    "\n",
    "def getStock(isbn):\n",
    "    url = 'http://www.kyobobook.co.kr/prom/2013/general/StoreStockTable.jsp?barcode=' + isbn + '&ejkgb=KOR'\n",
    "    res = requests.get(url)\n",
    "    soup = BeautifulSoup(res.text, 'html.parser')\n",
    "    # 비어있는 태그들 삭제\n",
    "    [x.decompose() for x in soup.findAll(lambda tag: (not tag.contents or len(tag.get_text(strip=True)) <= 0))]\n",
    "    store = soup.select('th')\n",
    "    num = soup.select('a')\n",
    "    stock = {}\n",
    "    for i, j in zip(store, num):\n",
    "        i = i.text\n",
    "        i = i.strip()\n",
    "        if i == '':\n",
    "            pass\n",
    "        else:\n",
    "            stock[i] = j.text\n",
    "    return stock"
   ]
  },
  {
   "cell_type": "code",
   "execution_count": 3,
   "metadata": {},
   "outputs": [],
   "source": [
    "isbn = '000212020531'\n",
    "url = 'http://www.kyobobook.co.kr/prom/2013/general/StoreStockTable.jsp?barcode=' + isbn + '&ejkgb=KOR'\n",
    "res = requests.get(url)"
   ]
  },
  {
   "cell_type": "code",
   "execution_count": 7,
   "metadata": {},
   "outputs": [],
   "source": [
    "url = 'https://www.facebook.com/tr/?id=247842611347428&ev=SubscribedButtonClick&dl=https%3A%2F%2Fproduct.kyobobook.co.kr%2Fdetail%2FS000212020531&rl=https%3A%2F%2Fproduct.kyobobook.co.kr%2Fcategory%2FKOR%2F33&if=false&ts=1706023945602&cd[buttonFeatures]=%7B%22classList%22%3A%22btn_dialog_close%22%2C%22destination%22%3A%22%22%2C%22id%22%3A%22%22%2C%22imageUrl%22%3A%22%22%2C%22innerText%22%3A%22%EB%8B%AB%EA%B8%B0%22%2C%22numChildButtons%22%3A0%2C%22tag%22%3A%22button%22%2C%22type%22%3A%22button%22%2C%22name%22%3A%22%22%2C%22value%22%3A%22%22%7D&cd[buttonText]=%EB%8B%AB%EA%B8%B0&cd[formFeatures]=%5B%5D&cd[pageFeatures]=%7B%22title%22%3A%22%EB%B0%91%EB%B0%94%EB%8B%A5%EB%B6%80%ED%84%B0%20%EC%8B%9C%EC%9E%91%ED%95%98%EB%8A%94%20%EB%94%A5%EB%9F%AC%EB%8B%9D%204%20%7C%20%EC%82%AC%EC%9D%B4%ED%86%A0%20%EA%B3%A0%ED%82%A4%20-%20%EA%B5%90%EB%B3%B4%EB%AC%B8%EA%B3%A0%22%7D&cd[parameters]=%5B%7B%22extractorID%22%3A%221080854379606108%22%2C%22jsonLD%22%3A%7B%22%40context%22%3A%22http%3A%2F%2Fschema.org%22%2C%22%40type%22%3A%22Product%22%2C%22offers%22%3A%7B%22priceCurrency%22%3A%22KRW%22%7D%7D%7D%2C%7B%22extractorID%22%3A%22320499053671691%22%2C%22jsonLD%22%3A%7B%22%40context%22%3A%22http%3A%2F%2Fschema.org%22%2C%22%40type%22%3A%22Product%22%2C%22offers%22%3A%7B%7D%7D%7D%5D&sw=1920&sh=1080&v=2.9.142&r=stable&ec=8&o=4126&fbp=fb.2.1704629015749.740299879&cs_est=true&ler=other&it=1706023521622&coo=false&es=automatic&tm=3&cdl=label_only_1&rqm=GET'"
   ]
  },
  {
   "cell_type": "code",
   "execution_count": 8,
   "metadata": {},
   "outputs": [],
   "source": [
    "res = requests.get(url)"
   ]
  },
  {
   "cell_type": "code",
   "execution_count": 9,
   "metadata": {},
   "outputs": [
    {
     "data": {
      "text/plain": [
       "<Response [200]>"
      ]
     },
     "execution_count": 9,
     "metadata": {},
     "output_type": "execute_result"
    }
   ],
   "source": [
    "res"
   ]
  },
  {
   "cell_type": "code",
   "execution_count": 10,
   "metadata": {},
   "outputs": [
    {
     "data": {
      "text/plain": [
       "200"
      ]
     },
     "execution_count": 10,
     "metadata": {},
     "output_type": "execute_result"
    }
   ],
   "source": [
    "res.status_code"
   ]
  },
  {
   "cell_type": "code",
   "execution_count": 5,
   "metadata": {},
   "outputs": [],
   "source": [
    "soup = BeautifulSoup(res.text, 'html.parser')"
   ]
  },
  {
   "cell_type": "code",
   "execution_count": 11,
   "metadata": {},
   "outputs": [],
   "source": [
    "text_content = res.text"
   ]
  },
  {
   "cell_type": "code",
   "execution_count": 12,
   "metadata": {},
   "outputs": [
    {
     "data": {
      "text/plain": [
       "''"
      ]
     },
     "execution_count": 12,
     "metadata": {},
     "output_type": "execute_result"
    }
   ],
   "source": [
    "text_content"
   ]
  },
  {
   "cell_type": "code",
   "execution_count": 13,
   "metadata": {},
   "outputs": [],
   "source": [
    "from requests.sessions import Session"
   ]
  },
  {
   "cell_type": "code",
   "execution_count": 14,
   "metadata": {},
   "outputs": [],
   "source": [
    "url = 'https://www.facebook.com/tr/?id=247842611347428&ev=SubscribedButtonClick&dl=https%3A%2F%2Fproduct.kyobobook.co.kr%2Fdetail%2FS000212020531&rl=https%3A%2F%2Fproduct.kyobobook.co.kr%2Fcategory%2FKOR%2F33&if=false&ts=1706023945602&cd[buttonFeatures]=%7B%22classList%22%3A%22btn_dialog_close%22%2C%22destination%22%3A%22%22%2C%22id%22%3A%22%22%2C%22imageUrl%22%3A%22%22%2C%22innerText%22%3A%22%EB%8B%AB%EA%B8%B0%22%2C%22numChildButtons%22%3A0%2C%22tag%22%3A%22button%22%2C%22type%22%3A%22button%22%2C%22name%22%3A%22%22%2C%22value%22%3A%22%22%7D&cd[buttonText]=%EB%8B%AB%EA%B8%B0&cd[formFeatures]=%5B%5D&cd[pageFeatures]=%7B%22title%22%3A%22%EB%B0%91%EB%B0%94%EB%8B%A5%EB%B6%80%ED%84%B0%20%EC%8B%9C%EC%9E%91%ED%95%98%EB%8A%94%20%EB%94%A5%EB%9F%AC%EB%8B%9D%204%20%7C%20%EC%82%AC%EC%9D%B4%ED%86%A0%20%EA%B3%A0%ED%82%A4%20-%20%EA%B5%90%EB%B3%B4%EB%AC%B8%EA%B3%A0%22%7D&cd[parameters]=%5B%7B%22extractorID%22%3A%221080854379606108%22%2C%22jsonLD%22%3A%7B%22%40context%22%3A%22http%3A%2F%2Fschema.org%22%2C%22%40type%22%3A%22Product%22%2C%22offers%22%3A%7B%22priceCurrency%22%3A%22KRW%22%7D%7D%7D%2C%7B%22extractorID%22%3A%22320499053671691%22%2C%22jsonLD%22%3A%7B%22%40context%22%3A%22http%3A%2F%2Fschema.org%22%2C%22%40type%22%3A%22Product%22%2C%22offers%22%3A%7B%7D%7D%7D%5D&sw=1920&sh=1080&v=2.9.142&r=stable&ec=8&o=4126&fbp=fb.2.1704629015749.740299879&cs_est=true&ler=other&it=1706023521622&coo=false&es=automatic&tm=3&cdl=label_only_1'\n",
    "session = Session()\n",
    "resp = session.request('GET', url)"
   ]
  },
  {
   "cell_type": "code",
   "execution_count": 15,
   "metadata": {},
   "outputs": [
    {
     "data": {
      "text/plain": [
       "<Response [200]>"
      ]
     },
     "execution_count": 15,
     "metadata": {},
     "output_type": "execute_result"
    }
   ],
   "source": [
    "resp"
   ]
  },
  {
   "cell_type": "code",
   "execution_count": 16,
   "metadata": {},
   "outputs": [
    {
     "data": {
      "text/plain": [
       "''"
      ]
     },
     "execution_count": 16,
     "metadata": {},
     "output_type": "execute_result"
    }
   ],
   "source": [
    "resp.text"
   ]
  },
  {
   "cell_type": "code",
   "execution_count": 17,
   "metadata": {},
   "outputs": [],
   "source": [
    "headers = {\n",
    "    'user-agent' : 'Mozilla/5.0 (Macintosh; Intel Mac OS X 10_15_7)'\n",
    "}"
   ]
  },
  {
   "cell_type": "code",
   "execution_count": 18,
   "metadata": {},
   "outputs": [],
   "source": [
    "from requests import request\n"
   ]
  },
  {
   "cell_type": "code",
   "execution_count": 19,
   "metadata": {},
   "outputs": [],
   "source": [
    "resp = request('GET', url, headers=headers)"
   ]
  },
  {
   "cell_type": "code",
   "execution_count": 20,
   "metadata": {},
   "outputs": [
    {
     "data": {
      "text/plain": [
       "''"
      ]
     },
     "execution_count": 20,
     "metadata": {},
     "output_type": "execute_result"
    }
   ],
   "source": [
    "resp.text"
   ]
  },
  {
   "cell_type": "code",
   "execution_count": 24,
   "metadata": {},
   "outputs": [],
   "source": [
    "\n",
    "# 웹 드라이버 설정 (Chrome을 사용하는 경우)\n",
    "driver = webdriver.Chrome()\n",
    "\n",
    "# 웹 페이지 열기\n",
    "driver.get('https://product.kyobobook.co.kr/detail/S000212020531')"
   ]
  },
  {
   "cell_type": "code",
   "execution_count": 25,
   "metadata": {},
   "outputs": [
    {
     "ename": "ElementClickInterceptedException",
     "evalue": "Message: element click intercepted: Element <button type=\"button\" class=\"btn_sm btn_line_gray\" data-role=\"btn-dialog\" data-target=\"#popStock\" onclick=\"ga360.GA_Event('click_종이책_상품상세_PC', '상단', '', '매장재고위치', '');\">...</button> is not clickable at point (1087, 752). Other element would receive the click: <div class=\"footer_contents_inner\">...</div>\n  (Session info: chrome=120.0.6099.234)\nStacktrace:\n0   chromedriver                        0x00000001030e84dc chromedriver + 4162780\n1   chromedriver                        0x00000001030e0664 chromedriver + 4130404\n2   chromedriver                        0x0000000102d37bc0 chromedriver + 293824\n3   chromedriver                        0x0000000102d850b4 chromedriver + 610484\n4   chromedriver                        0x0000000102d83090 chromedriver + 602256\n5   chromedriver                        0x0000000102d80b58 chromedriver + 592728\n6   chromedriver                        0x0000000102d7fb24 chromedriver + 588580\n7   chromedriver                        0x0000000102d73994 chromedriver + 539028\n8   chromedriver                        0x0000000102d73250 chromedriver + 537168\n9   chromedriver                        0x0000000102dbdab0 chromedriver + 842416\n10  chromedriver                        0x0000000102d716bc chromedriver + 530108\n11  chromedriver                        0x0000000102d72930 chromedriver + 534832\n12  chromedriver                        0x00000001030ade08 chromedriver + 3923464\n13  chromedriver                        0x00000001030b23dc chromedriver + 3941340\n14  chromedriver                        0x0000000103096038 chromedriver + 3825720\n15  chromedriver                        0x00000001030b2f3c chromedriver + 3944252\n16  chromedriver                        0x00000001030886f4 chromedriver + 3770100\n17  chromedriver                        0x00000001030cf980 chromedriver + 4061568\n18  chromedriver                        0x00000001030cfaf8 chromedriver + 4061944\n19  chromedriver                        0x00000001030e02e4 chromedriver + 4129508\n20  libsystem_pthread.dylib             0x000000018dc09034 _pthread_start + 136\n21  libsystem_pthread.dylib             0x000000018dc03e3c thread_start + 8\n",
     "output_type": "error",
     "traceback": [
      "\u001b[0;31m---------------------------------------------------------------------------\u001b[0m",
      "\u001b[0;31mElementClickInterceptedException\u001b[0m          Traceback (most recent call last)",
      "Cell \u001b[0;32mIn[25], line 5\u001b[0m\n\u001b[1;32m      1\u001b[0m \u001b[38;5;66;03m# 버튼 클릭을 위한 대기 (버튼이 로드될 때까지 기다림)\u001b[39;00m\n\u001b[1;32m      2\u001b[0m button \u001b[38;5;241m=\u001b[39m WebDriverWait(driver, \u001b[38;5;241m10\u001b[39m)\u001b[38;5;241m.\u001b[39muntil(\n\u001b[1;32m      3\u001b[0m     EC\u001b[38;5;241m.\u001b[39melement_to_be_clickable((By\u001b[38;5;241m.\u001b[39mCSS_SELECTOR, \u001b[38;5;124m\"\u001b[39m\u001b[38;5;124m.btn_sm.btn_line_gray[data-role=\u001b[39m\u001b[38;5;124m'\u001b[39m\u001b[38;5;124mbtn-dialog\u001b[39m\u001b[38;5;124m'\u001b[39m\u001b[38;5;124m]\u001b[39m\u001b[38;5;124m\"\u001b[39m))\n\u001b[1;32m      4\u001b[0m )\n\u001b[0;32m----> 5\u001b[0m \u001b[43mbutton\u001b[49m\u001b[38;5;241;43m.\u001b[39;49m\u001b[43mclick\u001b[49m\u001b[43m(\u001b[49m\u001b[43m)\u001b[49m\n",
      "File \u001b[0;32m~/miniforge3/envs/els/lib/python3.8/site-packages/selenium/webdriver/remote/webelement.py:94\u001b[0m, in \u001b[0;36mWebElement.click\u001b[0;34m(self)\u001b[0m\n\u001b[1;32m     92\u001b[0m \u001b[38;5;28;01mdef\u001b[39;00m \u001b[38;5;21mclick\u001b[39m(\u001b[38;5;28mself\u001b[39m) \u001b[38;5;241m-\u001b[39m\u001b[38;5;241m>\u001b[39m \u001b[38;5;28;01mNone\u001b[39;00m:\n\u001b[1;32m     93\u001b[0m \u001b[38;5;250m    \u001b[39m\u001b[38;5;124;03m\"\"\"Clicks the element.\"\"\"\u001b[39;00m\n\u001b[0;32m---> 94\u001b[0m     \u001b[38;5;28;43mself\u001b[39;49m\u001b[38;5;241;43m.\u001b[39;49m\u001b[43m_execute\u001b[49m\u001b[43m(\u001b[49m\u001b[43mCommand\u001b[49m\u001b[38;5;241;43m.\u001b[39;49m\u001b[43mCLICK_ELEMENT\u001b[49m\u001b[43m)\u001b[49m\n",
      "File \u001b[0;32m~/miniforge3/envs/els/lib/python3.8/site-packages/selenium/webdriver/remote/webelement.py:395\u001b[0m, in \u001b[0;36mWebElement._execute\u001b[0;34m(self, command, params)\u001b[0m\n\u001b[1;32m    393\u001b[0m     params \u001b[38;5;241m=\u001b[39m {}\n\u001b[1;32m    394\u001b[0m params[\u001b[38;5;124m\"\u001b[39m\u001b[38;5;124mid\u001b[39m\u001b[38;5;124m\"\u001b[39m] \u001b[38;5;241m=\u001b[39m \u001b[38;5;28mself\u001b[39m\u001b[38;5;241m.\u001b[39m_id\n\u001b[0;32m--> 395\u001b[0m \u001b[38;5;28;01mreturn\u001b[39;00m \u001b[38;5;28;43mself\u001b[39;49m\u001b[38;5;241;43m.\u001b[39;49m\u001b[43m_parent\u001b[49m\u001b[38;5;241;43m.\u001b[39;49m\u001b[43mexecute\u001b[49m\u001b[43m(\u001b[49m\u001b[43mcommand\u001b[49m\u001b[43m,\u001b[49m\u001b[43m \u001b[49m\u001b[43mparams\u001b[49m\u001b[43m)\u001b[49m\n",
      "File \u001b[0;32m~/miniforge3/envs/els/lib/python3.8/site-packages/selenium/webdriver/remote/webdriver.py:347\u001b[0m, in \u001b[0;36mWebDriver.execute\u001b[0;34m(self, driver_command, params)\u001b[0m\n\u001b[1;32m    345\u001b[0m response \u001b[38;5;241m=\u001b[39m \u001b[38;5;28mself\u001b[39m\u001b[38;5;241m.\u001b[39mcommand_executor\u001b[38;5;241m.\u001b[39mexecute(driver_command, params)\n\u001b[1;32m    346\u001b[0m \u001b[38;5;28;01mif\u001b[39;00m response:\n\u001b[0;32m--> 347\u001b[0m     \u001b[38;5;28;43mself\u001b[39;49m\u001b[38;5;241;43m.\u001b[39;49m\u001b[43merror_handler\u001b[49m\u001b[38;5;241;43m.\u001b[39;49m\u001b[43mcheck_response\u001b[49m\u001b[43m(\u001b[49m\u001b[43mresponse\u001b[49m\u001b[43m)\u001b[49m\n\u001b[1;32m    348\u001b[0m     response[\u001b[38;5;124m\"\u001b[39m\u001b[38;5;124mvalue\u001b[39m\u001b[38;5;124m\"\u001b[39m] \u001b[38;5;241m=\u001b[39m \u001b[38;5;28mself\u001b[39m\u001b[38;5;241m.\u001b[39m_unwrap_value(response\u001b[38;5;241m.\u001b[39mget(\u001b[38;5;124m\"\u001b[39m\u001b[38;5;124mvalue\u001b[39m\u001b[38;5;124m\"\u001b[39m, \u001b[38;5;28;01mNone\u001b[39;00m))\n\u001b[1;32m    349\u001b[0m     \u001b[38;5;28;01mreturn\u001b[39;00m response\n",
      "File \u001b[0;32m~/miniforge3/envs/els/lib/python3.8/site-packages/selenium/webdriver/remote/errorhandler.py:229\u001b[0m, in \u001b[0;36mErrorHandler.check_response\u001b[0;34m(self, response)\u001b[0m\n\u001b[1;32m    227\u001b[0m         alert_text \u001b[38;5;241m=\u001b[39m value[\u001b[38;5;124m\"\u001b[39m\u001b[38;5;124malert\u001b[39m\u001b[38;5;124m\"\u001b[39m]\u001b[38;5;241m.\u001b[39mget(\u001b[38;5;124m\"\u001b[39m\u001b[38;5;124mtext\u001b[39m\u001b[38;5;124m\"\u001b[39m)\n\u001b[1;32m    228\u001b[0m     \u001b[38;5;28;01mraise\u001b[39;00m exception_class(message, screen, stacktrace, alert_text)  \u001b[38;5;66;03m# type: ignore[call-arg]  # mypy is not smart enough here\u001b[39;00m\n\u001b[0;32m--> 229\u001b[0m \u001b[38;5;28;01mraise\u001b[39;00m exception_class(message, screen, stacktrace)\n",
      "\u001b[0;31mElementClickInterceptedException\u001b[0m: Message: element click intercepted: Element <button type=\"button\" class=\"btn_sm btn_line_gray\" data-role=\"btn-dialog\" data-target=\"#popStock\" onclick=\"ga360.GA_Event('click_종이책_상품상세_PC', '상단', '', '매장재고위치', '');\">...</button> is not clickable at point (1087, 752). Other element would receive the click: <div class=\"footer_contents_inner\">...</div>\n  (Session info: chrome=120.0.6099.234)\nStacktrace:\n0   chromedriver                        0x00000001030e84dc chromedriver + 4162780\n1   chromedriver                        0x00000001030e0664 chromedriver + 4130404\n2   chromedriver                        0x0000000102d37bc0 chromedriver + 293824\n3   chromedriver                        0x0000000102d850b4 chromedriver + 610484\n4   chromedriver                        0x0000000102d83090 chromedriver + 602256\n5   chromedriver                        0x0000000102d80b58 chromedriver + 592728\n6   chromedriver                        0x0000000102d7fb24 chromedriver + 588580\n7   chromedriver                        0x0000000102d73994 chromedriver + 539028\n8   chromedriver                        0x0000000102d73250 chromedriver + 537168\n9   chromedriver                        0x0000000102dbdab0 chromedriver + 842416\n10  chromedriver                        0x0000000102d716bc chromedriver + 530108\n11  chromedriver                        0x0000000102d72930 chromedriver + 534832\n12  chromedriver                        0x00000001030ade08 chromedriver + 3923464\n13  chromedriver                        0x00000001030b23dc chromedriver + 3941340\n14  chromedriver                        0x0000000103096038 chromedriver + 3825720\n15  chromedriver                        0x00000001030b2f3c chromedriver + 3944252\n16  chromedriver                        0x00000001030886f4 chromedriver + 3770100\n17  chromedriver                        0x00000001030cf980 chromedriver + 4061568\n18  chromedriver                        0x00000001030cfaf8 chromedriver + 4061944\n19  chromedriver                        0x00000001030e02e4 chromedriver + 4129508\n20  libsystem_pthread.dylib             0x000000018dc09034 _pthread_start + 136\n21  libsystem_pthread.dylib             0x000000018dc03e3c thread_start + 8\n"
     ]
    }
   ],
   "source": [
    "# 버튼 클릭을 위한 대기 (버튼이 로드될 때까지 기다림)\n",
    "button = WebDriverWait(driver, 10).until(\n",
    "    EC.element_to_be_clickable((By.CSS_SELECTOR, \".btn_sm.btn_line_gray[data-role='btn-dialog']\"))\n",
    ")\n",
    "button.click()"
   ]
  },
  {
   "cell_type": "code",
   "execution_count": 26,
   "metadata": {},
   "outputs": [],
   "source": [
    "# 요소가 클릭 가능할 때까지 대기\n",
    "button = WebDriverWait(driver, 10).until(\n",
    "    EC.element_to_be_clickable((By.CSS_SELECTOR, \".btn_sm.btn_line_gray[data-role='btn-dialog']\"))\n",
    ")\n",
    "\n",
    "# 자바스크립트를 사용하여 클릭\n",
    "driver.execute_script(\"arguments[0].click();\", button)"
   ]
  },
  {
   "cell_type": "code",
   "execution_count": 28,
   "metadata": {},
   "outputs": [
    {
     "name": "stdout",
     "output_type": "stream",
     "text": [
      "{'01': '0'}\n",
      "{'01': '0', '58': '0'}\n",
      "{'01': '0', '58': '0', '15': '0'}\n",
      "{'01': '0', '58': '0', '15': '0', '23': '0'}\n",
      "{'01': '0', '58': '0', '15': '0', '23': '0', '41': '0'}\n",
      "{'01': '0', '58': '0', '15': '0', '23': '0', '41': '0', '66': '0'}\n",
      "{'01': '0', '58': '0', '15': '0', '23': '0', '41': '0', '66': '0', '33': '0'}\n",
      "{'01': '0', '58': '0', '15': '0', '23': '0', '41': '0', '66': '0', '33': '0', '72': '0'}\n",
      "{'01': '0', '58': '0', '15': '0', '23': '0', '41': '0', '66': '0', '33': '0', '72': '0', '68': '0'}\n",
      "{'01': '0', '58': '0', '15': '0', '23': '0', '41': '0', '66': '0', '33': '0', '72': '0', '68': '0'}\n",
      "{'01': '0', '58': '0', '15': '0', '23': '0', '41': '0', '66': '0', '33': '0', '72': '0', '68': '0', '36': '0'}\n",
      "{'01': '0', '58': '0', '15': '0', '23': '0', '41': '0', '66': '0', '33': '0', '72': '0', '68': '0', '36': '0', '46': '0'}\n",
      "{'01': '0', '58': '0', '15': '0', '23': '0', '41': '0', '66': '0', '33': '0', '72': '0', '68': '0', '36': '0', '46': '0', '74': '0'}\n",
      "{'01': '0', '58': '0', '15': '0', '23': '0', '41': '0', '66': '0', '33': '0', '72': '0', '68': '0', '36': '0', '46': '0', '74': '0', '29': '0'}\n",
      "{'01': '0', '58': '0', '15': '0', '23': '0', '41': '0', '66': '0', '33': '0', '72': '0', '68': '0', '36': '0', '46': '0', '74': '0', '29': '0', '90': '0'}\n",
      "{'01': '0', '58': '0', '15': '0', '23': '0', '41': '0', '66': '0', '33': '0', '72': '0', '68': '0', '36': '0', '46': '0', '74': '0', '29': '0', '90': '0', '56': '0'}\n",
      "{'01': '0', '58': '0', '15': '0', '23': '0', '41': '0', '66': '0', '33': '0', '72': '0', '68': '0', '36': '0', '46': '0', '74': '0', '29': '0', '90': '0', '56': '0', '49': '0'}\n",
      "{'01': '0', '58': '0', '15': '0', '23': '0', '41': '0', '66': '0', '33': '0', '72': '0', '68': '0', '36': '0', '46': '0', '74': '0', '29': '0', '90': '0', '56': '0', '49': '0', '70': '0'}\n",
      "{'01': '0', '58': '0', '15': '0', '23': '0', '41': '0', '66': '0', '33': '0', '72': '0', '68': '0', '36': '0', '46': '0', '74': '0', '29': '0', '90': '0', '56': '0', '49': '0', '70': '0', '52': '0'}\n",
      "{'01': '0', '58': '0', '15': '0', '23': '0', '41': '0', '66': '0', '33': '0', '72': '0', '68': '0', '36': '0', '46': '0', '74': '0', '29': '0', '90': '0', '56': '0', '49': '0', '70': '0', '52': '0', '13': '0'}\n",
      "{'01': '0', '58': '0', '15': '0', '23': '0', '41': '0', '66': '0', '33': '0', '72': '0', '68': '0', '36': '0', '46': '0', '74': '0', '29': '0', '90': '0', '56': '0', '49': '0', '70': '0', '52': '0', '13': '0', '47': '0'}\n",
      "{'01': '0', '58': '0', '15': '0', '23': '0', '41': '0', '66': '0', '33': '0', '72': '0', '68': '0', '36': '0', '46': '0', '74': '0', '29': '0', '90': '0', '56': '0', '49': '0', '70': '0', '52': '0', '13': '0', '47': '0', '42': '0'}\n",
      "{'01': '0', '58': '0', '15': '0', '23': '0', '41': '0', '66': '0', '33': '0', '72': '0', '68': '0', '36': '0', '46': '0', '74': '0', '29': '0', '90': '0', '56': '0', '49': '0', '70': '0', '52': '0', '13': '0', '47': '0', '42': '0', '25': '0'}\n",
      "{'01': '0', '58': '0', '15': '0', '23': '0', '41': '0', '66': '0', '33': '0', '72': '0', '68': '0', '36': '0', '46': '0', '74': '0', '29': '0', '90': '0', '56': '0', '49': '0', '70': '0', '52': '0', '13': '0', '47': '0', '42': '0', '25': '0', '38': '0'}\n",
      "{'01': '0', '58': '0', '15': '0', '23': '0', '41': '0', '66': '0', '33': '0', '72': '0', '68': '0', '36': '0', '46': '0', '74': '0', '29': '0', '90': '0', '56': '0', '49': '0', '70': '0', '52': '0', '13': '0', '47': '0', '42': '0', '25': '0', '38': '0', '69': '0'}\n",
      "{'01': '0', '58': '0', '15': '0', '23': '0', '41': '0', '66': '0', '33': '0', '72': '0', '68': '0', '36': '0', '46': '0', '74': '0', '29': '0', '90': '0', '56': '0', '49': '0', '70': '0', '52': '0', '13': '0', '47': '0', '42': '0', '25': '0', '38': '0', '69': '0', '57': '0'}\n",
      "{'01': '0', '58': '0', '15': '0', '23': '0', '41': '0', '66': '0', '33': '0', '72': '0', '68': '0', '36': '0', '46': '0', '74': '0', '29': '0', '90': '0', '56': '0', '49': '0', '70': '0', '52': '0', '13': '0', '47': '0', '42': '0', '25': '0', '38': '0', '69': '0', '57': '0', '59': '0'}\n",
      "{'01': '0', '58': '0', '15': '0', '23': '0', '41': '0', '66': '0', '33': '0', '72': '0', '68': '0', '36': '0', '46': '0', '74': '0', '29': '0', '90': '0', '56': '0', '49': '0', '70': '0', '52': '0', '13': '0', '47': '0', '42': '0', '25': '0', '38': '0', '69': '0', '57': '0', '59': '0', '87': '0'}\n",
      "{'01': '0', '58': '0', '15': '0', '23': '0', '41': '0', '66': '0', '33': '0', '72': '0', '68': '0', '36': '0', '46': '0', '74': '0', '29': '0', '90': '0', '56': '0', '49': '0', '70': '0', '52': '0', '13': '0', '47': '0', '42': '0', '25': '0', '38': '0', '69': '0', '57': '0', '59': '0', '87': '0', '04': '0'}\n",
      "{'01': '0', '58': '0', '15': '0', '23': '0', '41': '0', '66': '0', '33': '0', '72': '0', '68': '0', '36': '0', '46': '0', '74': '0', '29': '0', '90': '0', '56': '0', '49': '0', '70': '0', '52': '0', '13': '0', '47': '0', '42': '0', '25': '0', '38': '0', '69': '0', '57': '0', '59': '0', '87': '0', '04': '0', '02': '0'}\n",
      "{'01': '0', '58': '0', '15': '0', '23': '0', '41': '0', '66': '0', '33': '0', '72': '0', '68': '0', '36': '0', '46': '0', '74': '0', '29': '0', '90': '0', '56': '0', '49': '0', '70': '0', '52': '0', '13': '0', '47': '0', '42': '0', '25': '0', '38': '0', '69': '0', '57': '0', '59': '0', '87': '0', '04': '0', '02': '0', '05': '0'}\n",
      "{'01': '0', '58': '0', '15': '0', '23': '0', '41': '0', '66': '0', '33': '0', '72': '0', '68': '0', '36': '0', '46': '0', '74': '0', '29': '0', '90': '0', '56': '0', '49': '0', '70': '0', '52': '0', '13': '0', '47': '0', '42': '0', '25': '0', '38': '0', '69': '0', '57': '0', '59': '0', '87': '0', '04': '0', '02': '0', '05': '0', '24': '0'}\n",
      "{'01': '0', '58': '0', '15': '0', '23': '0', '41': '0', '66': '0', '33': '0', '72': '0', '68': '0', '36': '0', '46': '0', '74': '0', '29': '0', '90': '0', '56': '0', '49': '0', '70': '0', '52': '0', '13': '0', '47': '0', '42': '0', '25': '0', '38': '0', '69': '0', '57': '0', '59': '0', '87': '0', '04': '0', '02': '0', '05': '0', '24': '0', '45': '0'}\n",
      "{'01': '0', '58': '0', '15': '0', '23': '0', '41': '0', '66': '0', '33': '0', '72': '0', '68': '0', '36': '0', '46': '0', '74': '0', '29': '0', '90': '0', '56': '0', '49': '0', '70': '0', '52': '0', '13': '0', '47': '0', '42': '0', '25': '0', '38': '0', '69': '0', '57': '0', '59': '0', '87': '0', '04': '0', '02': '0', '05': '0', '24': '0', '45': '0', '39': '0'}\n",
      "{'01': '0', '58': '0', '15': '0', '23': '0', '41': '0', '66': '0', '33': '0', '72': '0', '68': '0', '36': '0', '46': '0', '74': '0', '29': '0', '90': '0', '56': '0', '49': '0', '70': '0', '52': '0', '13': '0', '47': '0', '42': '0', '25': '0', '38': '0', '69': '0', '57': '0', '59': '0', '87': '0', '04': '0', '02': '0', '05': '0', '24': '0', '45': '0', '39': '0', '77': '0'}\n",
      "{'01': '0', '58': '0', '15': '0', '23': '0', '41': '0', '66': '0', '33': '0', '72': '0', '68': '0', '36': '0', '46': '0', '74': '0', '29': '0', '90': '0', '56': '0', '49': '0', '70': '0', '52': '0', '13': '0', '47': '0', '42': '0', '25': '0', '38': '0', '69': '0', '57': '0', '59': '0', '87': '0', '04': '0', '02': '0', '05': '0', '24': '0', '45': '0', '39': '0', '77': '0', '31': '0'}\n",
      "{'01': '0', '58': '0', '15': '0', '23': '0', '41': '0', '66': '0', '33': '0', '72': '0', '68': '0', '36': '0', '46': '0', '74': '0', '29': '0', '90': '0', '56': '0', '49': '0', '70': '0', '52': '0', '13': '0', '47': '0', '42': '0', '25': '0', '38': '0', '69': '0', '57': '0', '59': '0', '87': '0', '04': '0', '02': '0', '05': '0', '24': '0', '45': '0', '39': '0', '77': '0', '31': '0', '28': '0'}\n",
      "{'01': '0', '58': '0', '15': '0', '23': '0', '41': '0', '66': '0', '33': '0', '72': '0', '68': '0', '36': '0', '46': '0', '74': '0', '29': '0', '90': '0', '56': '0', '49': '0', '70': '0', '52': '0', '13': '0', '47': '0', '42': '0', '25': '0', '38': '0', '69': '0', '57': '0', '59': '0', '87': '0', '04': '0', '02': '0', '05': '0', '24': '0', '45': '0', '39': '0', '77': '0', '31': '0', '28': '0', '34': '0'}\n",
      "{'01': '0', '58': '0', '15': '0', '23': '0', '41': '0', '66': '0', '33': '0', '72': '0', '68': '0', '36': '0', '46': '0', '74': '0', '29': '0', '90': '0', '56': '0', '49': '0', '70': '0', '52': '0', '13': '0', '47': '0', '42': '0', '25': '0', '38': '0', '69': '0', '57': '0', '59': '0', '87': '0', '04': '0', '02': '0', '05': '0', '24': '0', '45': '0', '39': '0', '77': '0', '31': '0', '28': '0', '34': '0', '48': '0'}\n",
      "{'01': '0', '58': '0', '15': '0', '23': '0', '41': '0', '66': '0', '33': '0', '72': '0', '68': '0', '36': '0', '46': '0', '74': '0', '29': '0', '90': '0', '56': '0', '49': '0', '70': '0', '52': '0', '13': '0', '47': '0', '42': '0', '25': '0', '38': '0', '69': '0', '57': '0', '59': '0', '87': '0', '04': '0', '02': '0', '05': '0', '24': '0', '45': '0', '39': '0', '77': '0', '31': '0', '28': '0', '34': '0', '48': '0', '43': '0'}\n"
     ]
    }
   ],
   "source": [
    "\n",
    "\n",
    "# 필요한 데이터 추출\n",
    "results = {}\n",
    "links = driver.find_elements(By.CSS_SELECTOR, \"td a.btn_text_link\")\n",
    "for link in links:\n",
    "    href = link.get_attribute('href')\n",
    "    text = link.find_element(By.CSS_SELECTOR, \"span.text\").text\n",
    "    \n",
    "    # 'site' 파라미터 추출\n",
    "    query = urlparse(href).query\n",
    "    site_param = parse_qs(query).get('site', [None])[0]\n",
    "\n",
    "    if site_param:\n",
    "        results[site_param] = text\n",
    "\n",
    "    print(results)\n",
    "\n"
   ]
  },
  {
   "cell_type": "code",
   "execution_count": 30,
   "metadata": {},
   "outputs": [
    {
     "data": {
      "text/plain": [
       "39"
      ]
     },
     "execution_count": 30,
     "metadata": {},
     "output_type": "execute_result"
    }
   ],
   "source": [
    "len(results)"
   ]
  },
  {
   "cell_type": "code",
   "execution_count": 31,
   "metadata": {},
   "outputs": [
    {
     "data": {
      "text/plain": [
       "40"
      ]
     },
     "execution_count": 31,
     "metadata": {},
     "output_type": "execute_result"
    }
   ],
   "source": [
    "17 + 9 + 14"
   ]
  },
  {
   "cell_type": "code",
   "execution_count": 32,
   "metadata": {},
   "outputs": [],
   "source": [
    "th_elements = driver.find_elements(By.CSS_SELECTOR, \"th[scope='col']\")\n",
    "th_texts = [th.text for th in th_elements]"
   ]
  },
  {
   "cell_type": "code",
   "execution_count": 33,
   "metadata": {},
   "outputs": [
    {
     "data": {
      "text/plain": [
       "['광화문',\n",
       " '가든파이브',\n",
       " '강남',\n",
       " '건대',\n",
       " '동대문',\n",
       " '신도림 디큐브',\n",
       " '목동',\n",
       " '서울대',\n",
       " '수유',\n",
       " '신논현역 팝업 스토어',\n",
       " '영등포',\n",
       " '은평',\n",
       " '이화여대',\n",
       " '잠실',\n",
       " '천호',\n",
       " '청량리',\n",
       " '합정',\n",
       " '',\n",
       " '광교',\n",
       " '광교월드 스퀘어',\n",
       " '부천',\n",
       " '분당',\n",
       " '송도',\n",
       " '인천',\n",
       " '일산',\n",
       " '판교',\n",
       " '평촌',\n",
       " '',\n",
       " '',\n",
       " '',\n",
       " '경성대ㆍ 부경대',\n",
       " '광주상무',\n",
       " '대구',\n",
       " '대전',\n",
       " '부산',\n",
       " '세종',\n",
       " '센텀시티',\n",
       " '울산',\n",
       " '전북대',\n",
       " '전주',\n",
       " '창원',\n",
       " '천안',\n",
       " '칠곡',\n",
       " '해운대 팝업 스토어',\n",
       " '',\n",
       " '',\n",
       " '',\n",
       " '',\n",
       " '',\n",
       " '',\n",
       " '',\n",
       " '']"
      ]
     },
     "execution_count": 33,
     "metadata": {},
     "output_type": "execute_result"
    }
   ],
   "source": [
    "th_texts"
   ]
  },
  {
   "cell_type": "code",
   "execution_count": 34,
   "metadata": {},
   "outputs": [],
   "source": [
    "filtered_list = [item for item in th_texts if item != '']\n"
   ]
  },
  {
   "cell_type": "code",
   "execution_count": 35,
   "metadata": {},
   "outputs": [
    {
     "data": {
      "text/plain": [
       "40"
      ]
     },
     "execution_count": 35,
     "metadata": {},
     "output_type": "execute_result"
    }
   ],
   "source": [
    "len(filtered_list)"
   ]
  },
  {
   "cell_type": "code",
   "execution_count": 46,
   "metadata": {},
   "outputs": [],
   "source": [
    "updated_list = [item for item in filtered_list if item != '신논현역 팝업 스토어']\n"
   ]
  },
  {
   "cell_type": "code",
   "execution_count": 47,
   "metadata": {},
   "outputs": [
    {
     "data": {
      "text/plain": [
       "['광화문',\n",
       " '가든파이브',\n",
       " '강남',\n",
       " '건대',\n",
       " '동대문',\n",
       " '신도림 디큐브',\n",
       " '목동',\n",
       " '서울대',\n",
       " '수유',\n",
       " '영등포',\n",
       " '은평',\n",
       " '이화여대',\n",
       " '잠실',\n",
       " '천호',\n",
       " '청량리',\n",
       " '합정',\n",
       " '광교',\n",
       " '광교월드 스퀘어',\n",
       " '부천',\n",
       " '분당',\n",
       " '송도',\n",
       " '인천',\n",
       " '일산',\n",
       " '판교',\n",
       " '평촌',\n",
       " '경성대ㆍ 부경대',\n",
       " '광주상무',\n",
       " '대구',\n",
       " '대전',\n",
       " '부산',\n",
       " '세종',\n",
       " '센텀시티',\n",
       " '울산',\n",
       " '전북대',\n",
       " '전주',\n",
       " '창원',\n",
       " '천안',\n",
       " '칠곡',\n",
       " '해운대 팝업 스토어']"
      ]
     },
     "execution_count": 47,
     "metadata": {},
     "output_type": "execute_result"
    }
   ],
   "source": [
    "updated_list"
   ]
  },
  {
   "cell_type": "code",
   "execution_count": 48,
   "metadata": {},
   "outputs": [
    {
     "data": {
      "text/plain": [
       "39"
      ]
     },
     "execution_count": 48,
     "metadata": {},
     "output_type": "execute_result"
    }
   ],
   "source": [
    "len(updated_list)"
   ]
  },
  {
   "cell_type": "code",
   "execution_count": 36,
   "metadata": {},
   "outputs": [],
   "source": [
    "driver.quit()"
   ]
  },
  {
   "cell_type": "code",
   "execution_count": 37,
   "metadata": {},
   "outputs": [],
   "source": [
    "\n",
    "# 웹 드라이버 설정 (Chrome을 사용하는 경우)\n",
    "driver = webdriver.Chrome()\n",
    "\n",
    "# 웹 페이지 열기\n",
    "driver.get('https://product.kyobobook.co.kr/detail/S000210410749')\n",
    "\n",
    "# 요소가 클릭 가능할 때까지 대기\n",
    "button = WebDriverWait(driver, 10).until(\n",
    "    EC.element_to_be_clickable((By.CSS_SELECTOR, \".btn_sm.btn_line_gray[data-role='btn-dialog']\"))\n",
    ")\n",
    "\n",
    "# 자바스크립트를 사용하여 클릭\n",
    "driver.execute_script(\"arguments[0].click();\", button)\n",
    "\n",
    "# 필요한 데이터 추출\n",
    "results = {}\n",
    "links = driver.find_elements(By.CSS_SELECTOR, \"td a.btn_text_link\")\n",
    "for link in links:\n",
    "    href = link.get_attribute('href')\n",
    "    text = link.find_element(By.CSS_SELECTOR, \"span.text\").text\n",
    "    \n",
    "    # 'site' 파라미터 추출\n",
    "    query = urlparse(href).query\n",
    "    site_param = parse_qs(query).get('site', [None])[0]\n",
    "\n",
    "    if site_param:\n",
    "        results[site_param] = text"
   ]
  },
  {
   "cell_type": "code",
   "execution_count": 39,
   "metadata": {},
   "outputs": [
    {
     "data": {
      "text/plain": [
       "39"
      ]
     },
     "execution_count": 39,
     "metadata": {},
     "output_type": "execute_result"
    }
   ],
   "source": [
    "len(results)"
   ]
  },
  {
   "cell_type": "code",
   "execution_count": 49,
   "metadata": {},
   "outputs": [],
   "source": [
    "# filtered_list의 값과 results 딕셔너리의 키를 매핑\n",
    "mapped_dict = dict(zip(results.keys(), updated_list))"
   ]
  },
  {
   "cell_type": "code",
   "execution_count": 61,
   "metadata": {},
   "outputs": [],
   "source": [
    "# result의 각 키에 대응하는 mapped_dict의 값으로 대체\n",
    "updated_result = {mapped_dict[key]: results[key] for key in results.keys()}\n"
   ]
  },
  {
   "cell_type": "code",
   "execution_count": 67,
   "metadata": {},
   "outputs": [],
   "source": [
    "driver.quit()"
   ]
  },
  {
   "cell_type": "markdown",
   "metadata": {},
   "source": [
    "# 함수화"
   ]
  },
  {
   "cell_type": "code",
   "execution_count": 5,
   "metadata": {},
   "outputs": [],
   "source": [
    "shop_dict = {'01': '광화문',\n",
    "'58': '가든파이브',\n",
    "'15': '강남',\n",
    "'23': '건대',\n",
    "'41': '동대문',\n",
    "'66': '신도림 디큐브',\n",
    "'33': '목동',\n",
    "'72': '서울대',\n",
    "'68': '수유',\n",
    "'36': '영등포',\n",
    "'46': '은평',\n",
    "'74': '이화여대',\n",
    "'29': '잠실',\n",
    "'90': '천호',\n",
    "'56': '청량리',\n",
    "'49': '합정',\n",
    "'70': '광교',\n",
    "'52': '광교월드 스퀘어',\n",
    "'13': '부천',\n",
    "'47': '분당',\n",
    "'42': '송도',\n",
    "'25': '인천',\n",
    "'38': '일산',\n",
    "'69': '판교',\n",
    "'57': '평촌',\n",
    "'59': '경성대ㆍ 부경대',\n",
    "'87': '광주상무',\n",
    "'04': '대구',\n",
    "'02': '대전',\n",
    "'05': '부산',\n",
    "'24': '세종',\n",
    "'45': '센텀시티',\n",
    "'39': '울산',\n",
    "'77': '전북대',\n",
    "'31': '전주',\n",
    "'28': '창원',\n",
    "'34': '천안',\n",
    "'48': '칠곡',\n",
    "'43': '해운대 팝업 스토어'}"
   ]
  },
  {
   "cell_type": "code",
   "execution_count": 43,
   "metadata": {},
   "outputs": [],
   "source": [
    "def kyobo_stock(url, shop_dict):\n",
    "    # WebDriver 초기화 (예: Chrome)\n",
    "    driver = webdriver.Chrome()\n",
    "\n",
    "    # 웹 페이지 열기\n",
    "    driver.get(url)\n",
    "\n",
    "    try:\n",
    "        button = WebDriverWait(driver, 10).until(\n",
    "        EC.element_to_be_clickable((By.CSS_SELECTOR, \".btn_sm.btn_line_gray[data-role='btn-dialog']\")))\n",
    "        driver.execute_script(\"arguments[0].click();\", button)\n",
    "\n",
    "\n",
    "        results = {}\n",
    "        links = driver.find_elements(By.CSS_SELECTOR, \"td a.btn_text_link\")\n",
    "        for link in links:\n",
    "            href = link.get_attribute('href')\n",
    "            text = link.find_element(By.CSS_SELECTOR, \"span.text\").text\n",
    "            \n",
    "            query = urlparse(href).query\n",
    "            site_param = parse_qs(query).get('site', [None])[0]\n",
    "\n",
    "            if site_param:\n",
    "                results[site_param] = text\n",
    "\n",
    "        updated_result = {shop_dict[key]: results[key] for key in results.keys()}\n",
    "    finally:\n",
    "        driver.quit()\n",
    "    \n",
    "    return updated_result\n"
   ]
  },
  {
   "cell_type": "code",
   "execution_count": 44,
   "metadata": {},
   "outputs": [],
   "source": [
    "check = kyobo_stock('https://product.kyobobook.co.kr/detail/S000211352514', shop_dict)"
   ]
  },
  {
   "cell_type": "code",
   "execution_count": 45,
   "metadata": {},
   "outputs": [
    {
     "data": {
      "text/plain": [
       "{'광화문': '272',\n",
       " '가든파이브': '50',\n",
       " '강남': '239',\n",
       " '건대': '45',\n",
       " '동대문': '57',\n",
       " '신도림 디큐브': '25',\n",
       " '목동': '62',\n",
       " '서울대': '11',\n",
       " '수유': '63',\n",
       " '영등포': '138',\n",
       " '은평': '25',\n",
       " '이화여대': '9',\n",
       " '잠실': '131',\n",
       " '천호': '26',\n",
       " '청량리': '31',\n",
       " '합정': '90',\n",
       " '광교': '76',\n",
       " '광교월드 스퀘어': '11',\n",
       " '부천': '26',\n",
       " '분당': '26',\n",
       " '송도': '103',\n",
       " '인천': '56',\n",
       " '일산': '113',\n",
       " '판교': '236',\n",
       " '평촌': '79',\n",
       " '경성대ㆍ 부경대': '13',\n",
       " '광주상무': '9',\n",
       " '대구': '158',\n",
       " '대전': '51',\n",
       " '부산': '32',\n",
       " '세종': '23',\n",
       " '센텀시티': '28',\n",
       " '울산': '37',\n",
       " '전북대': '3',\n",
       " '전주': '33',\n",
       " '창원': '68',\n",
       " '천안': '38',\n",
       " '칠곡': '9',\n",
       " '해운대 팝업 스토어': '28'}"
      ]
     },
     "execution_count": 45,
     "metadata": {},
     "output_type": "execute_result"
    }
   ],
   "source": [
    "check"
   ]
  },
  {
   "cell_type": "code",
   "execution_count": null,
   "metadata": {},
   "outputs": [],
   "source": [
    "# 7초 걸리네... 괜찮남?? ㅎㅎ..."
   ]
  },
  {
   "cell_type": "markdown",
   "metadata": {},
   "source": [
    "# 다른 시도"
   ]
  },
  {
   "cell_type": "code",
   "execution_count": 6,
   "metadata": {},
   "outputs": [
    {
     "data": {
      "text/plain": [
       "{'01': '광화문',\n",
       " '58': '가든파이브',\n",
       " '15': '강남',\n",
       " '23': '건대',\n",
       " '41': '동대문',\n",
       " '66': '신도림 디큐브',\n",
       " '33': '목동',\n",
       " '72': '서울대',\n",
       " '68': '수유',\n",
       " '36': '영등포',\n",
       " '46': '은평',\n",
       " '74': '이화여대',\n",
       " '29': '잠실',\n",
       " '90': '천호',\n",
       " '56': '청량리',\n",
       " '49': '합정',\n",
       " '70': '광교',\n",
       " '52': '광교월드 스퀘어',\n",
       " '13': '부천',\n",
       " '47': '분당',\n",
       " '42': '송도',\n",
       " '25': '인천',\n",
       " '38': '일산',\n",
       " '69': '판교',\n",
       " '57': '평촌',\n",
       " '59': '경성대ㆍ 부경대',\n",
       " '87': '광주상무',\n",
       " '04': '대구',\n",
       " '02': '대전',\n",
       " '05': '부산',\n",
       " '24': '세종',\n",
       " '45': '센텀시티',\n",
       " '39': '울산',\n",
       " '77': '전북대',\n",
       " '31': '전주',\n",
       " '28': '창원',\n",
       " '34': '천안',\n",
       " '48': '칠곡',\n",
       " '43': '해운대 팝업 스토어'}"
      ]
     },
     "execution_count": 6,
     "metadata": {},
     "output_type": "execute_result"
    }
   ],
   "source": [
    "shop_dict"
   ]
  },
  {
   "cell_type": "code",
   "execution_count": 3,
   "metadata": {},
   "outputs": [],
   "source": [
    "url = 'https://mkiosk.kyobobook.co.kr/kiosk/product/bookInfoInk.ink?site=01&ejkGb=KOR&barcode=9791163034735'\n",
    "\n",
    "resp = requests.get(url)\n",
    "soup = BeautifulSoup(resp.text, 'html.parser')"
   ]
  },
  {
   "cell_type": "code",
   "execution_count": 8,
   "metadata": {},
   "outputs": [
    {
     "name": "stdout",
     "output_type": "stream",
     "text": [
      "18\n"
     ]
    }
   ],
   "source": [
    "\n",
    "import re\n",
    "\n",
    "\n",
    "# 'strong' 태그 찾기\n",
    "strong_tag = soup.find('strong', string=re.compile('재고 :'))\n",
    "\n",
    "# 정규 표현식을 사용하여 숫자 추출\n",
    "if strong_tag:\n",
    "    stock_number = re.search(r'\\d+', strong_tag.text)\n",
    "    if stock_number:\n",
    "        stock_number = stock_number.group()\n",
    "        print(stock_number)\n",
    "    else:\n",
    "        print(\"재고 숫자를 찾을 수 없습니다.\")\n",
    "else:\n",
    "    print(\"해당 태그를 찾을 수 없습니다.\")\n"
   ]
  },
  {
   "cell_type": "code",
   "execution_count": 9,
   "metadata": {},
   "outputs": [
    {
     "data": {
      "text/plain": [
       "'18'"
      ]
     },
     "execution_count": 9,
     "metadata": {},
     "output_type": "execute_result"
    }
   ],
   "source": [
    "stock_number"
   ]
  },
  {
   "cell_type": "code",
   "execution_count": 10,
   "metadata": {},
   "outputs": [],
   "source": [
    "url = 'https://mkiosk.kyobobook.co.kr/kiosk/product/bookInfoInk.ink?site=58&ejkGb=KOR&barcode=9791163034681'\n",
    "\n",
    "resp = requests.get(url)\n",
    "soup = BeautifulSoup(resp.text, 'html.parser')"
   ]
  },
  {
   "cell_type": "code",
   "execution_count": 15,
   "metadata": {},
   "outputs": [],
   "source": [
    "strong_tag = soup.find('strong', string=re.compile('재고 :'))\n",
    "\n",
    "# 정규 표현식을 사용하여 숫자 추출\n",
    "if strong_tag:\n",
    "    stock_number = re.search(r'\\d+', strong_tag.text)\n",
    "    if stock_number:\n",
    "        stock_number = stock_number.group()\n",
    "    else:\n",
    "        stock_number = '0'"
   ]
  },
  {
   "cell_type": "code",
   "execution_count": 16,
   "metadata": {},
   "outputs": [
    {
     "data": {
      "text/plain": [
       "'0'"
      ]
     },
     "execution_count": 16,
     "metadata": {},
     "output_type": "execute_result"
    }
   ],
   "source": [
    "stock_number"
   ]
  },
  {
   "cell_type": "markdown",
   "metadata": {},
   "source": [
    "# 함수화"
   ]
  },
  {
   "cell_type": "code",
   "execution_count": 19,
   "metadata": {},
   "outputs": [],
   "source": [
    "def kyobo_check(code, shop_dict):\n",
    "    base_url = 'https://mkiosk.kyobobook.co.kr/kiosk/product/bookInfoInk.ink?site={site}&ejkGb=KOR&barcode={code}'\n",
    "    stock_dict = {}\n",
    "    for key in shop_dict.keys():\n",
    "        url = base_url.format(site=key, code=code)\n",
    "        resp = requests.get(url)\n",
    "        soup = BeautifulSoup(resp.text, 'html.parser')\n",
    "\n",
    "        strong_tag = soup.find('strong', text=re.compile('재고 :'))\n",
    "        if strong_tag:\n",
    "            stock_number = re.search(r'\\d+', strong_tag.text)\n",
    "            if stock_number:\n",
    "                stock_dict[key] = stock_number.group()\n",
    "            else:\n",
    "                stock_dict[key] = '0'\n",
    "        else:\n",
    "            stock_dict[key] = '태그오류'\n",
    "\n",
    "    return stock_dict"
   ]
  },
  {
   "cell_type": "code",
   "execution_count": 21,
   "metadata": {},
   "outputs": [],
   "source": [
    "code = '9791163034681'"
   ]
  },
  {
   "cell_type": "code",
   "execution_count": 22,
   "metadata": {},
   "outputs": [
    {
     "name": "stderr",
     "output_type": "stream",
     "text": [
      "/var/folders/d6/d15px6nn599bb66tcmrq23380000gn/T/ipykernel_7170/1067981345.py:9: DeprecationWarning: The 'text' argument to find()-type methods is deprecated. Use 'string' instead.\n",
      "  strong_tag = soup.find('strong', text=re.compile('재고 :'))\n"
     ]
    }
   ],
   "source": [
    "check = kyobo_check(code, shop_dict) # 3.8초"
   ]
  },
  {
   "cell_type": "code",
   "execution_count": 24,
   "metadata": {},
   "outputs": [],
   "source": [
    "updated_result = {shop_dict[key]: check[key] for key in check.keys()}"
   ]
  },
  {
   "cell_type": "code",
   "execution_count": 25,
   "metadata": {},
   "outputs": [
    {
     "data": {
      "text/plain": [
       "{'광화문': '2',\n",
       " '가든파이브': '0',\n",
       " '강남': '8',\n",
       " '건대': '1',\n",
       " '동대문': '1',\n",
       " '신도림 디큐브': '1',\n",
       " '목동': '1',\n",
       " '서울대': '1',\n",
       " '수유': '1',\n",
       " '영등포': '1',\n",
       " '은평': '1',\n",
       " '이화여대': '1',\n",
       " '잠실': '1',\n",
       " '천호': '1',\n",
       " '청량리': '1',\n",
       " '합정': '0',\n",
       " '광교': '3',\n",
       " '광교월드 스퀘어': '0',\n",
       " '부천': '1',\n",
       " '분당': '1',\n",
       " '송도': '1',\n",
       " '인천': '1',\n",
       " '일산': '1',\n",
       " '판교': '1',\n",
       " '평촌': '1',\n",
       " '경성대ㆍ 부경대': '1',\n",
       " '광주상무': '1',\n",
       " '대구': '6',\n",
       " '대전': '1',\n",
       " '부산': '1',\n",
       " '세종': '1',\n",
       " '센텀시티': '1',\n",
       " '울산': '1',\n",
       " '전북대': '1',\n",
       " '전주': '0',\n",
       " '창원': '1',\n",
       " '천안': '1',\n",
       " '칠곡': '0',\n",
       " '해운대 팝업 스토어': '0'}"
      ]
     },
     "execution_count": 25,
     "metadata": {},
     "output_type": "execute_result"
    }
   ],
   "source": [
    "updated_result"
   ]
  },
  {
   "cell_type": "markdown",
   "metadata": {},
   "source": [
    "# 최종"
   ]
  },
  {
   "cell_type": "code",
   "execution_count": 37,
   "metadata": {},
   "outputs": [],
   "source": [
    "def kyobo_check(code, shop_dict):\n",
    "    base_url = 'https://mkiosk.kyobobook.co.kr/kiosk/product/bookInfoInk.ink?site={site}&ejkGb=KOR&barcode={code}'\n",
    "    stock_dict = {}\n",
    "    updated_result = {}\n",
    "    for key in shop_dict.keys():\n",
    "        url = base_url.format(site=key, code=code)\n",
    "        resp = requests.get(url)\n",
    "        soup = BeautifulSoup(resp.text, 'html.parser')\n",
    "\n",
    "        strong_tag = soup.find('strong', text=re.compile('재고 :'))\n",
    "        if strong_tag:\n",
    "            stock_number = re.search(r'\\d+', strong_tag.text)\n",
    "            if stock_number:\n",
    "                stock_dict[key] = stock_number.group()\n",
    "            else:\n",
    "                stock_dict[key] = '0'\n",
    "        else:\n",
    "            stock_dict[key] = '태그오류'\n",
    "\n",
    "\n",
    "    updated_result = {shop_dict[key]: stock_dict[key] for key in stock_dict.keys()}\n",
    "    \n",
    "    return updated_result"
   ]
  },
  {
   "cell_type": "code",
   "execution_count": 38,
   "metadata": {},
   "outputs": [],
   "source": [
    "code = '9791163034735'"
   ]
  },
  {
   "cell_type": "code",
   "execution_count": 39,
   "metadata": {},
   "outputs": [
    {
     "name": "stderr",
     "output_type": "stream",
     "text": [
      "/var/folders/d6/d15px6nn599bb66tcmrq23380000gn/T/ipykernel_7170/1661178423.py:10: DeprecationWarning: The 'text' argument to find()-type methods is deprecated. Use 'string' instead.\n",
      "  strong_tag = soup.find('strong', text=re.compile('재고 :'))\n"
     ]
    }
   ],
   "source": [
    "check = kyobo_check(code, shop_dict) # 3.8초"
   ]
  },
  {
   "cell_type": "code",
   "execution_count": 40,
   "metadata": {},
   "outputs": [
    {
     "data": {
      "text/plain": [
       "{'광화문': '18',\n",
       " '가든파이브': '7',\n",
       " '강남': '54',\n",
       " '건대': '10',\n",
       " '동대문': '5',\n",
       " '신도림 디큐브': '5',\n",
       " '목동': '4',\n",
       " '서울대': '18',\n",
       " '수유': '10',\n",
       " '영등포': '17',\n",
       " '은평': '2',\n",
       " '이화여대': '3',\n",
       " '잠실': '37',\n",
       " '천호': '1',\n",
       " '청량리': '11',\n",
       " '합정': '7',\n",
       " '광교': '10',\n",
       " '광교월드 스퀘어': '0',\n",
       " '부천': '2',\n",
       " '분당': '5',\n",
       " '송도': '9',\n",
       " '인천': '9',\n",
       " '일산': '6',\n",
       " '판교': '5',\n",
       " '평촌': '8',\n",
       " '경성대ㆍ 부경대': '1',\n",
       " '광주상무': '1',\n",
       " '대구': '18',\n",
       " '대전': '5',\n",
       " '부산': '9',\n",
       " '세종': '5',\n",
       " '센텀시티': '3',\n",
       " '울산': '5',\n",
       " '전북대': '1',\n",
       " '전주': '1',\n",
       " '창원': '7',\n",
       " '천안': '1',\n",
       " '칠곡': '1',\n",
       " '해운대 팝업 스토어': '1'}"
      ]
     },
     "execution_count": 40,
     "metadata": {},
     "output_type": "execute_result"
    }
   ],
   "source": [
    "check"
   ]
  },
  {
   "cell_type": "code",
   "execution_count": null,
   "metadata": {},
   "outputs": [],
   "source": []
  }
 ],
 "metadata": {
  "kernelspec": {
   "display_name": "els",
   "language": "python",
   "name": "python3"
  },
  "language_info": {
   "codemirror_mode": {
    "name": "ipython",
    "version": 3
   },
   "file_extension": ".py",
   "mimetype": "text/x-python",
   "name": "python",
   "nbconvert_exporter": "python",
   "pygments_lexer": "ipython3",
   "version": "3.8.18"
  }
 },
 "nbformat": 4,
 "nbformat_minor": 2
}
