{
 "cells": [
  {
   "cell_type": "code",
   "execution_count": 1,
   "metadata": {},
   "outputs": [],
   "source": [
    "from selenium import webdriver\n",
    "from selenium.webdriver.common.by import By\n",
    "from selenium.webdriver.support.ui import WebDriverWait\n",
    "from selenium.webdriver.support import expected_conditions as EC"
   ]
  },
  {
   "cell_type": "code",
   "execution_count": 9,
   "metadata": {},
   "outputs": [],
   "source": [
    "driver = webdriver.Chrome()"
   ]
  },
  {
   "cell_type": "code",
   "execution_count": 10,
   "metadata": {},
   "outputs": [],
   "source": [
    "# 웹 페이지 열기\n",
    "driver.get('https://www.ypbooks.co.kr/book.yp?bookcd=101253548') # 1.6초"
   ]
  },
  {
   "cell_type": "code",
   "execution_count": 4,
   "metadata": {},
   "outputs": [],
   "source": [
    "# driver.get('https://product.kyobobook.co.kr/detail/S000211352514') # 교보문고는 5.2초, 교보문고가 오래걸림"
   ]
  },
  {
   "cell_type": "code",
   "execution_count": 11,
   "metadata": {},
   "outputs": [],
   "source": [
    "    # 버튼이 로드될 때까지 대기하고 클릭\n",
    "WebDriverWait(driver, 10).until(\n",
    "    EC.element_to_be_clickable((By.ID, \"call_pop_stock\"))\n",
    ").click()"
   ]
  },
  {
   "cell_type": "code",
   "execution_count": 23,
   "metadata": {},
   "outputs": [],
   "source": [
    "# 'store' 클래스를 가진 모든 td 태그 찾기\n",
    "store_elements = driver.find_elements(By.CSS_SELECTOR, \"tbody .store\")\n",
    "\n"
   ]
  },
  {
   "cell_type": "code",
   "execution_count": 24,
   "metadata": {},
   "outputs": [
    {
     "data": {
      "text/plain": [
       "43"
      ]
     },
     "execution_count": 24,
     "metadata": {},
     "output_type": "execute_result"
    }
   ],
   "source": [
    "len(store_elements)"
   ]
  },
  {
   "cell_type": "code",
   "execution_count": 25,
   "metadata": {},
   "outputs": [],
   "source": [
    "element=store_elements[0]"
   ]
  },
  {
   "cell_type": "code",
   "execution_count": 26,
   "metadata": {},
   "outputs": [
    {
     "data": {
      "text/plain": [
       "<selenium.webdriver.remote.webelement.WebElement (session=\"5ea9169ba50437f4179dfb50e37d0e6e\", element=\"48FE20FD8C893B22E5C1189181A43B3F_element_1275\")>"
      ]
     },
     "execution_count": 26,
     "metadata": {},
     "output_type": "execute_result"
    }
   ],
   "source": [
    "element"
   ]
  },
  {
   "cell_type": "code",
   "execution_count": 29,
   "metadata": {},
   "outputs": [],
   "source": [
    "store_name = element.find_element(By.TAG_NAME, \"strong\").text"
   ]
  },
  {
   "cell_type": "code",
   "execution_count": 30,
   "metadata": {},
   "outputs": [
    {
     "data": {
      "text/plain": [
       "'가산마리오'"
      ]
     },
     "execution_count": 30,
     "metadata": {},
     "output_type": "execute_result"
    }
   ],
   "source": [
    "store_name"
   ]
  },
  {
   "cell_type": "code",
   "execution_count": 31,
   "metadata": {},
   "outputs": [],
   "source": [
    "stock = element.find_element(By.CLASS_NAME, \"stock\").text"
   ]
  },
  {
   "cell_type": "code",
   "execution_count": 32,
   "metadata": {},
   "outputs": [
    {
     "data": {
      "text/plain": [
       "'62'"
      ]
     },
     "execution_count": 32,
     "metadata": {},
     "output_type": "execute_result"
    }
   ],
   "source": [
    "stock"
   ]
  },
  {
   "cell_type": "code",
   "execution_count": 41,
   "metadata": {},
   "outputs": [],
   "source": [
    "driver.quit()"
   ]
  },
  {
   "cell_type": "code",
   "execution_count": 42,
   "metadata": {},
   "outputs": [],
   "source": [
    "driver = webdriver.Chrome()\n",
    "driver.get('https://www.ypbooks.co.kr/book.yp?bookcd=101253548')\n",
    "WebDriverWait(driver, 10).until(\n",
    "            EC.element_to_be_clickable((By.ID, \"call_pop_stock\"))\n",
    "        ).click()\n",
    "# 동적 컨텐츠 로드 대기\n",
    "WebDriverWait(driver, 10).until(\n",
    "    EC.visibility_of_element_located((By.CSS_SELECTOR, \"tbody .store\"))\n",
    ")\n",
    "\n",
    "store_elements = driver.find_elements(By.CSS_SELECTOR, \"tbody .store\")"
   ]
  },
  {
   "cell_type": "code",
   "execution_count": 44,
   "metadata": {},
   "outputs": [],
   "source": [
    "stores_stock = {}"
   ]
  },
  {
   "cell_type": "code",
   "execution_count": 45,
   "metadata": {},
   "outputs": [],
   "source": [
    "for element in store_elements:\n",
    "    store_name = element.find_element(By.TAG_NAME, \"strong\").text\n",
    "    stock = element.find_element(By.CLASS_NAME, \"stock\").text\n",
    "\n",
    "    stores_stock[store_name] = stock"
   ]
  },
  {
   "cell_type": "code",
   "execution_count": 47,
   "metadata": {},
   "outputs": [],
   "source": [
    "driver.quit()"
   ]
  },
  {
   "cell_type": "markdown",
   "metadata": {},
   "source": [
    "# 함수화"
   ]
  },
  {
   "cell_type": "code",
   "execution_count": 48,
   "metadata": {},
   "outputs": [],
   "source": [
    "def yp_stock(url):\n",
    "    driver = webdriver.Chrome()\n",
    "    driver.get(url)\n",
    "    stores_stock = {}\n",
    "    try:\n",
    "        WebDriverWait(driver, 10).until(\n",
    "            EC.element_to_be_clickable((By.ID, \"call_pop_stock\"))\n",
    "        ).click()\n",
    "        WebDriverWait(driver, 10).until(\n",
    "            EC.visibility_of_element_located((By.CSS_SELECTOR, \"tbody .store\"))\n",
    "        )\n",
    "        store_elements = driver.find_elements(By.CSS_SELECTOR, \"tbody .store\")\n",
    "\n",
    "        for element in store_elements:\n",
    "            store_name = element.find_element(By.TAG_NAME, \"strong\").text\n",
    "            stock = element.find_element(By.CLASS_NAME, \"stock\").text\n",
    "\n",
    "            stores_stock[store_name] = stock\n",
    "    finally:\n",
    "        driver.quit()\n",
    "\n",
    "    return stores_stock"
   ]
  },
  {
   "cell_type": "code",
   "execution_count": 49,
   "metadata": {},
   "outputs": [],
   "source": [
    "check = yp_stock('https://www.ypbooks.co.kr/book.yp?bookcd=101253548') # 3.5초 걸림"
   ]
  },
  {
   "cell_type": "code",
   "execution_count": 50,
   "metadata": {},
   "outputs": [
    {
     "data": {
      "text/plain": [
       "{'가산마리오': '62',\n",
       " '강남역': '56',\n",
       " '강남포스코': '49',\n",
       " '경산이마트': '27',\n",
       " '광복롯데': '47',\n",
       " '광주터미널': '211',\n",
       " '구리롯데아울렛': '24',\n",
       " '구미롯데마트': '33',\n",
       " '군산롯데아울렛': '33',\n",
       " '김포공항롯데': '118',\n",
       " '대구역롯데': '58',\n",
       " '대전터미널': '42',\n",
       " '동탄롯데': '57',\n",
       " '마산롯데': '21',\n",
       " '목포터미널': '20',\n",
       " '미아롯데': '30',\n",
       " '부산남포': '42',\n",
       " '부산대': '24',\n",
       " '부산하단': '18',\n",
       " '분당서현': '76',\n",
       " '사당역': '112',\n",
       " '세종이마트': '21',\n",
       " '센텀시티': '55',\n",
       " '수원NC': '30',\n",
       " '스타필드고양': '105',\n",
       " '스타필드시티위례': '60',\n",
       " '스타필드안성': '26',\n",
       " '스타필드코엑스몰': '224',\n",
       " '스타필드하남': '158',\n",
       " '신림타임스트림': '46',\n",
       " '여의도IFC몰': '253',\n",
       " '왕십리역': '83',\n",
       " '용산아이파크몰': '46',\n",
       " '유성': '60',\n",
       " '의정부신세계': '96',\n",
       " '인천스퀘어원': '56',\n",
       " '인천터미널': '59',\n",
       " '전주터미널': '20',\n",
       " '종각종로': '105',\n",
       " '죽전이마트': '15',\n",
       " '천안': '33',\n",
       " '청주': '54',\n",
       " '홍대': '69'}"
      ]
     },
     "execution_count": 50,
     "metadata": {},
     "output_type": "execute_result"
    }
   ],
   "source": [
    "check"
   ]
  },
  {
   "cell_type": "code",
   "execution_count": null,
   "metadata": {},
   "outputs": [],
   "source": []
  },
  {
   "cell_type": "markdown",
   "metadata": {},
   "source": [
    "# 추가 작업 (네트워크 뒷단에 돌고 있는 자바스크립트 코드 뜯기)"
   ]
  },
  {
   "cell_type": "code",
   "execution_count": 51,
   "metadata": {},
   "outputs": [],
   "source": [
    "from requests.sessions import Session"
   ]
  },
  {
   "cell_type": "code",
   "execution_count": 52,
   "metadata": {},
   "outputs": [],
   "source": [
    "url = 'https://www.ypbooks.co.kr/ypbooks_mobile/sub/mBranchStockLoc.jsp?bookCd=101253548&bookCost=17000&josgaNo1=30'\n",
    "session = Session()\n",
    "resp = session.request('GET', url)"
   ]
  },
  {
   "cell_type": "code",
   "execution_count": 54,
   "metadata": {},
   "outputs": [
    {
     "data": {
      "text/plain": [
       "'\\r\\n\\r\\n\\r\\n\\r\\n\\r\\n\\r\\n\\r\\n\\r\\n\\r\\n\\r\\n\\r\\n\\r\\n\\r\\n\\r\\n<!DOCTYPE html>\\r\\n<html lang=\"ko\">\\r\\n<head>\\r\\n\\t<script src=\"/ypbooks_mobile/js/jquery-1.12.4.min.js\"></script>\\r\\n</head>\\r\\n<body>\\r\\n\\r\\n\\t<table class=\"table\" summary=\"\">\\r\\n\\t\\t<p>영업점 재고·위치 (지점명 가나다순)</p>\\r\\n\\t\\t<p class=\"notice\">영업점 서가 위치를 확인하려면 해당 <strong class=\"underline\">영업점을 클릭</strong>하세요.<br>\\r\\n\\t\\t실시간 재고수량이 변하므로 <strong class=\"underline\">전화확인 후 방문</strong>바랍니다.</p>\\r\\n\\t\\t<colgroup>\\r\\n\\t\\t\\t<col style=\"width:16.65%\">\\r\\n\\t\\t\\t<col style=\"width:16.65%\">\\r\\n\\t\\t\\t<col style=\"width:16.65%\">\\r\\n\\t\\t\\t<col style=\"width:16.65%\">\\r\\n\\t\\t\\t<col style=\"width:16.65%\">\\r\\n\\t\\t\\t<col style=\"width:16.65%\">\\r\\n\\t\\t</colgroup>\\r\\n\\t\\t<tbody>\\r\\n<tr>\\r\\n\\t\\t\\t\\t<td class=\"store\"><a href=\"javascript:fLocationInfo(4900);\"><strong>가산마리오</strong><br><span class=\"stock\">62</span></a></td>\\r\\n\\t\\t\\t\\t<td class=\"store\"><a href=\"javascript:fLocationInfo(3700);\"><strong>강남역</strong><br><span class=\"stock\">56</span></a></td>\\r\\n\\t\\t\\t\\t<td class=\"store\"><a href=\"javascript:fLocationInfo(8260);\"><strong>강남포스코</strong><br><span class=\"stock\">49</span></a></td></tr><tr>\\r\\n\\t\\t\\t\\t<td class=\"store\"><a href=\"javascript:fLocationInfo(7300);\"><strong>경산이마트</strong><br><span class=\"stock\">27</span></a></td>\\r\\n\\t\\t\\t\\t<td class=\"store\"><a href=\"javascript:fLocationInfo(5400);\"><strong>광복롯데</strong><br><span class=\"stock\">47</span></a></td>\\r\\n\\t\\t\\t\\t<td class=\"store\"><a href=\"javascript:fLocationInfo(2400);\"><strong>광주터미널</strong><br><span class=\"stock\">211</span></a></td></tr><tr>\\r\\n\\t\\t\\t\\t<td class=\"store\"><a href=\"javascript:fLocationInfo(6780);\"><strong>구리롯데아울렛</strong><br><span class=\"stock\">24</span></a></td>\\r\\n\\t\\t\\t\\t<td class=\"store\"><a href=\"javascript:fLocationInfo(4600);\"><strong>구미롯데마트</strong><br><span class=\"stock\">33</span></a></td>\\r\\n\\t\\t\\t\\t<td class=\"store\"><a href=\"javascript:fLocationInfo(6760);\"><strong>군산롯데아울렛</strong><br><span class=\"stock\">33</span></a></td></tr><tr>\\r\\n\\t\\t\\t\\t<td class=\"store\"><a href=\"javascript:fLocationInfo(5800);\"><strong>김포공항롯데</strong><br><span class=\"stock\">118</span></a></td>\\r\\n\\t\\t\\t\\t<td class=\"store\"><a href=\"javascript:fLocationInfo(8950);\"><strong>대구역롯데</strong><br><span class=\"stock\">58</span></a></td>\\r\\n\\t\\t\\t\\t<td class=\"store\"><a href=\"javascript:fLocationInfo(3400);\"><strong>대전터미널</strong><br><span class=\"stock\">42</span></a></td></tr><tr>\\r\\n\\t\\t\\t\\t<td class=\"store\"><a href=\"javascript:fLocationInfo(4400);\"><strong>동탄롯데</strong><br><span class=\"stock\">57</span></a></td>\\r\\n\\t\\t\\t\\t<td class=\"store\"><a href=\"javascript:fLocationInfo(5300);\"><strong>마산롯데</strong><br><span class=\"stock\">21</span></a></td>\\r\\n\\t\\t\\t\\t<td class=\"store\"><a href=\"javascript:fLocationInfo(3300);\"><strong>목포터미널</strong><br><span class=\"stock\">20</span></a></td></tr><tr>\\r\\n\\t\\t\\t\\t<td class=\"store\"><a href=\"javascript:fLocationInfo(5250);\"><strong>미아롯데</strong><br><span class=\"stock\">30</span></a></td>\\r\\n\\t\\t\\t\\t<td class=\"store\"><a href=\"javascript:fLocationInfo(3800);\"><strong>부산남포</strong><br><span class=\"stock\">42</span></a></td>\\r\\n\\t\\t\\t\\t<td class=\"store\"><a href=\"javascript:fLocationInfo(3000);\"><strong>부산대</strong><br><span class=\"stock\">24</span></a></td></tr><tr>\\r\\n\\t\\t\\t\\t<td class=\"store\"><a href=\"javascript:fLocationInfo(3070);\"><strong>부산하단</strong><br><span class=\"stock\">18</span></a></td>\\r\\n\\t\\t\\t\\t<td class=\"store\"><a href=\"javascript:fLocationInfo(4500);\"><strong>분당서현</strong><br><span class=\"stock\">76</span></a></td>\\r\\n\\t\\t\\t\\t<td class=\"store\"><a href=\"javascript:fLocationInfo(3080);\"><strong>사당역</strong><br><span class=\"stock\">112</span></a></td></tr><tr>\\r\\n\\t\\t\\t\\t<td class=\"store\"><a href=\"javascript:fLocationInfo(8300);\"><strong>세종이마트</strong><br><span class=\"stock\">21</span></a></td>\\r\\n\\t\\t\\t\\t<td class=\"store\"><a href=\"javascript:fLocationInfo(6800);\"><strong>센텀시티</strong><br><span class=\"stock\">55</span></a></td>\\r\\n\\t\\t\\t\\t<td class=\"store\"><a href=\"javascript:fLocationInfo(2800);\"><strong>수원NC</strong><br><span class=\"stock\">30</span></a></td></tr><tr>\\r\\n\\t\\t\\t\\t<td class=\"store\"><a href=\"javascript:fLocationInfo(6700);\"><strong>스타필드고양</strong><br><span class=\"stock\">105</span></a></td>\\r\\n\\t\\t\\t\\t<td class=\"store\"><a href=\"javascript:fLocationInfo(6770);\"><strong>스타필드시티위례</strong><br><span class=\"stock\">60</span></a></td>\\r\\n\\t\\t\\t\\t<td class=\"store\"><a href=\"javascript:fLocationInfo(6790);\"><strong>스타필드안성</strong><br><span class=\"stock\">26</span></a></td></tr><tr>\\r\\n\\t\\t\\t\\t<td class=\"store\"><a href=\"javascript:fLocationInfo(3600);\"><strong>스타필드코엑스몰</strong><br><span class=\"stock\">224</span></a></td>\\r\\n\\t\\t\\t\\t<td class=\"store\"><a href=\"javascript:fLocationInfo(6500);\"><strong>스타필드하남</strong><br><span class=\"stock\">158</span></a></td>\\r\\n\\t\\t\\t\\t<td class=\"store\"><a href=\"javascript:fLocationInfo(3060);\"><strong>신림타임스트림</strong><br><span class=\"stock\">46</span></a></td></tr><tr>\\r\\n\\t\\t\\t\\t<td class=\"store\"><a href=\"javascript:fLocationInfo(3500);\"><strong>여의도IFC몰</strong><br><span class=\"stock\">253</span></a></td>\\r\\n\\t\\t\\t\\t<td class=\"store\"><a href=\"javascript:fLocationInfo(3050);\"><strong>왕십리역</strong><br><span class=\"stock\">83</span></a></td>\\r\\n\\t\\t\\t\\t<td class=\"store\"><a href=\"javascript:fLocationInfo(6750);\"><strong>용산아이파크몰</strong><br><span class=\"stock\">46</span></a></td></tr><tr>\\r\\n\\t\\t\\t\\t<td class=\"store\"><a href=\"javascript:fLocationInfo(8400);\"><strong>유성</strong><br><span class=\"stock\">60</span></a></td>\\r\\n\\t\\t\\t\\t<td class=\"store\"><a href=\"javascript:fLocationInfo(6400);\"><strong>의정부신세계</strong><br><span class=\"stock\">96</span></a></td>\\r\\n\\t\\t\\t\\t<td class=\"store\"><a href=\"javascript:fLocationInfo(8800);\"><strong>인천스퀘어원</strong><br><span class=\"stock\">56</span></a></td></tr><tr>\\r\\n\\t\\t\\t\\t<td class=\"store\"><a href=\"javascript:fLocationInfo(2200);\"><strong>인천터미널</strong><br><span class=\"stock\">59</span></a></td>\\r\\n\\t\\t\\t\\t<td class=\"store\"><a href=\"javascript:fLocationInfo(3900);\"><strong>전주터미널</strong><br><span class=\"stock\">20</span></a></td>\\r\\n\\t\\t\\t\\t<td class=\"store\"><a href=\"javascript:fLocationInfo(2000);\"><strong>종각종로</strong><br><span class=\"stock\">105</span></a></td></tr><tr>\\r\\n\\t\\t\\t\\t<td class=\"store\"><a href=\"javascript:fLocationInfo(7100);\"><strong>죽전이마트</strong><br><span class=\"stock\">15</span></a></td>\\r\\n\\t\\t\\t\\t<td class=\"store\"><a href=\"javascript:fLocationInfo(8250);\"><strong>천안</strong><br><span class=\"stock\">33</span></a></td>\\r\\n\\t\\t\\t\\t<td class=\"store\"><a href=\"javascript:fLocationInfo(8200);\"><strong>청주</strong><br><span class=\"stock\">54</span></a></td></tr><tr>\\r\\n\\t\\t\\t\\t<td class=\"store\"><a href=\"javascript:fLocationInfo(4700);\"><strong>홍대</strong><br><span class=\"stock\">69</span></a></td>\\r\\n\\t\\t</tbody>\\r\\n\\t</table>\\r\\n\\r\\n\\t<button type=\"button\" class=\"close-table\" onClick=\"javascript:swtbranchview(2)\">닫기<i></i></button>\\r\\n</body>\\r\\n</html>'"
      ]
     },
     "execution_count": 54,
     "metadata": {},
     "output_type": "execute_result"
    }
   ],
   "source": [
    "resp.text"
   ]
  },
  {
   "cell_type": "code",
   "execution_count": 55,
   "metadata": {},
   "outputs": [],
   "source": [
    "import requests\n",
    "from bs4 import BeautifulSoup\n",
    "\n",
    "# URL 설정\n",
    "url = 'https://www.ypbooks.co.kr/ypbooks_mobile/sub/mBranchStockLoc.jsp?bookCd=101253548&bookCost=17000&josgaNo1=30'\n",
    "\n",
    "# requests를 사용하여 웹 페이지 가져오기\n",
    "resp = requests.get(url)\n",
    "\n",
    "# BeautifulSoup으로 HTML 파싱\n",
    "soup = BeautifulSoup(resp.text, 'html.parser')\n",
    "\n",
    "# 결과를 저장할 딕셔너리\n",
    "stores_stock = {}\n",
    "\n",
    "# 'store' 클래스를 가진 모든 td 태그 찾기\n",
    "store_elements = soup.find_all('td', class_='store')\n",
    "\n",
    "for element in store_elements:\n",
    "    store_name = element.find('strong').text\n",
    "    stock = element.find('span', class_='stock').text\n",
    "    stores_stock[store_name] = stock\n",
    "\n"
   ]
  },
  {
   "cell_type": "code",
   "execution_count": 57,
   "metadata": {},
   "outputs": [
    {
     "data": {
      "text/plain": [
       "{'가산마리오': '62',\n",
       " '강남역': '56',\n",
       " '강남포스코': '49',\n",
       " '경산이마트': '27',\n",
       " '광복롯데': '47',\n",
       " '광주터미널': '211',\n",
       " '구리롯데아울렛': '24',\n",
       " '구미롯데마트': '33',\n",
       " '군산롯데아울렛': '33',\n",
       " '김포공항롯데': '118',\n",
       " '대구역롯데': '58',\n",
       " '대전터미널': '42',\n",
       " '동탄롯데': '57',\n",
       " '마산롯데': '21',\n",
       " '목포터미널': '20',\n",
       " '미아롯데': '30',\n",
       " '부산남포': '42',\n",
       " '부산대': '24',\n",
       " '부산하단': '18',\n",
       " '분당서현': '76',\n",
       " '사당역': '112',\n",
       " '세종이마트': '21',\n",
       " '센텀시티': '55',\n",
       " '수원NC': '30',\n",
       " '스타필드고양': '105',\n",
       " '스타필드시티위례': '60',\n",
       " '스타필드안성': '26',\n",
       " '스타필드코엑스몰': '224',\n",
       " '스타필드하남': '158',\n",
       " '신림타임스트림': '46',\n",
       " '여의도IFC몰': '253',\n",
       " '왕십리역': '83',\n",
       " '용산아이파크몰': '46',\n",
       " '유성': '60',\n",
       " '의정부신세계': '96',\n",
       " '인천스퀘어원': '56',\n",
       " '인천터미널': '59',\n",
       " '전주터미널': '20',\n",
       " '종각종로': '105',\n",
       " '죽전이마트': '15',\n",
       " '천안': '33',\n",
       " '청주': '54',\n",
       " '홍대': '69'}"
      ]
     },
     "execution_count": 57,
     "metadata": {},
     "output_type": "execute_result"
    }
   ],
   "source": [
    "stores_stock # 확실히 개빠름 0.4초만에"
   ]
  },
  {
   "cell_type": "code",
   "execution_count": null,
   "metadata": {},
   "outputs": [],
   "source": [
    "&josgaNo1=36"
   ]
  },
  {
   "cell_type": "code",
   "execution_count": 64,
   "metadata": {},
   "outputs": [],
   "source": [
    "url = 'https://www.ypbooks.co.kr/ypbooks_mobile/sub/mBranchStockLoc.jsp?bookCd=101250576'\n",
    "\n",
    "resp = requests.get(url)\n",
    "\n",
    "soup = BeautifulSoup(resp.text, 'html.parser')"
   ]
  },
  {
   "cell_type": "code",
   "execution_count": 65,
   "metadata": {},
   "outputs": [
    {
     "data": {
      "text/plain": [
       "\n",
       "<!DOCTYPE html>\n",
       "\n",
       "<html lang=\"ko\">\n",
       "<head>\n",
       "<script src=\"/ypbooks_mobile/js/jquery-1.12.4.min.js\"></script>\n",
       "</head>\n",
       "<body>\n",
       "<table class=\"table\" summary=\"\">\n",
       "<p>영업점 재고·위치 (지점명 가나다순)</p>\n",
       "<p class=\"notice\">영업점 서가 위치를 확인하려면 해당 <strong class=\"underline\">영업점을 클릭</strong>하세요.<br/>\n",
       "\t\t실시간 재고수량이 변하므로 <strong class=\"underline\">전화확인 후 방문</strong>바랍니다.</p>\n",
       "<colgroup>\n",
       "<col style=\"width:16.65%\"/>\n",
       "<col style=\"width:16.65%\"/>\n",
       "<col style=\"width:16.65%\"/>\n",
       "<col style=\"width:16.65%\"/>\n",
       "<col style=\"width:16.65%\"/>\n",
       "<col style=\"width:16.65%\"/>\n",
       "</colgroup>\n",
       "<tbody>\n",
       "</tbody>\n",
       "</table>\n",
       "<button class=\"close-table\" onclick=\"javascript:swtbranchview(2)\" type=\"button\">닫기<i></i></button>\n",
       "</body>\n",
       "</html>"
      ]
     },
     "execution_count": 65,
     "metadata": {},
     "output_type": "execute_result"
    }
   ],
   "source": [
    "soup"
   ]
  },
  {
   "cell_type": "code",
   "execution_count": 66,
   "metadata": {},
   "outputs": [],
   "source": [
    "url = 'https://www.ypbooks.co.kr/ypbooks_mobile/sub/mBranchStockLoc.jsp?bookCd=101250576&bookCost=30000'\n",
    "\n",
    "resp = requests.get(url)\n",
    "\n",
    "soup = BeautifulSoup(resp.text, 'html.parser')"
   ]
  },
  {
   "cell_type": "code",
   "execution_count": 67,
   "metadata": {},
   "outputs": [
    {
     "data": {
      "text/plain": [
       "\n",
       "<!DOCTYPE html>\n",
       "\n",
       "<html lang=\"ko\">\n",
       "<head>\n",
       "<script src=\"/ypbooks_mobile/js/jquery-1.12.4.min.js\"></script>\n",
       "</head>\n",
       "<body>\n",
       "<table class=\"table\" summary=\"\">\n",
       "<p>영업점 재고·위치 (지점명 가나다순)</p>\n",
       "<p class=\"notice\">영업점 서가 위치를 확인하려면 해당 <strong class=\"underline\">영업점을 클릭</strong>하세요.<br/>\n",
       "\t\t실시간 재고수량이 변하므로 <strong class=\"underline\">전화확인 후 방문</strong>바랍니다.</p>\n",
       "<colgroup>\n",
       "<col style=\"width:16.65%\"/>\n",
       "<col style=\"width:16.65%\"/>\n",
       "<col style=\"width:16.65%\"/>\n",
       "<col style=\"width:16.65%\"/>\n",
       "<col style=\"width:16.65%\"/>\n",
       "<col style=\"width:16.65%\"/>\n",
       "</colgroup>\n",
       "<tbody>\n",
       "<tr>\n",
       "<td class=\"store\"><a href=\"javascript:fLocationInfo(4900);\"><strong>가산마리오</strong><br/><span class=\"stock\">1</span></a></td>\n",
       "<td class=\"store\"><a href=\"javascript:fLocationInfo(3700);\"><strong>강남역</strong><br/><span class=\"stock\">2</span></a></td>\n",
       "<td class=\"store\"><a href=\"javascript:fLocationInfo(8260);\"><strong>강남포스코</strong><br/><span class=\"stock\">1</span></a></td></tr><tr>\n",
       "<td class=\"store\"><strong>경산이마트</strong><br/><span class=\"stock\">0</span></td>\n",
       "<td class=\"store\"><strong>광복롯데</strong><br/><span class=\"stock\">0</span></td>\n",
       "<td class=\"store\"><a href=\"javascript:fLocationInfo(2400);\"><strong>광주터미널</strong><br/><span class=\"stock\">1</span></a></td></tr><tr>\n",
       "<td class=\"store\"><strong>구리롯데아울렛</strong><br/><span class=\"stock\">0</span></td>\n",
       "<td class=\"store\"><a href=\"javascript:fLocationInfo(4600);\"><strong>구미롯데마트</strong><br/><span class=\"stock\">1</span></a></td>\n",
       "<td class=\"store\"><a href=\"javascript:fLocationInfo(6760);\"><strong>군산롯데아울렛</strong><br/><span class=\"stock\">1</span></a></td></tr><tr>\n",
       "<td class=\"store\"><a href=\"javascript:fLocationInfo(5800);\"><strong>김포공항롯데</strong><br/><span class=\"stock\">1</span></a></td>\n",
       "<td class=\"store\"><strong>대구역롯데</strong><br/><span class=\"stock\">0</span></td>\n",
       "<td class=\"store\"><a href=\"javascript:fLocationInfo(3400);\"><strong>대전터미널</strong><br/><span class=\"stock\">2</span></a></td></tr><tr>\n",
       "<td class=\"store\"><a href=\"javascript:fLocationInfo(4400);\"><strong>동탄롯데</strong><br/><span class=\"stock\">1</span></a></td>\n",
       "<td class=\"store\"><strong>마산롯데</strong><br/><span class=\"stock\">0</span></td>\n",
       "<td class=\"store\"><strong>목포터미널</strong><br/><span class=\"stock\">0</span></td></tr><tr>\n",
       "<td class=\"store\"><strong>미아롯데</strong><br/><span class=\"stock\">0</span></td>\n",
       "<td class=\"store\"><strong>부산남포</strong><br/><span class=\"stock\">0</span></td>\n",
       "<td class=\"store\"><a href=\"javascript:fLocationInfo(3000);\"><strong>부산대</strong><br/><span class=\"stock\">1</span></a></td></tr><tr>\n",
       "<td class=\"store\"><a href=\"javascript:fLocationInfo(3070);\"><strong>부산하단</strong><br/><span class=\"stock\">1</span></a></td>\n",
       "<td class=\"store\"><a href=\"javascript:fLocationInfo(4500);\"><strong>분당서현</strong><br/><span class=\"stock\">4</span></a></td>\n",
       "<td class=\"store\"><a href=\"javascript:fLocationInfo(3080);\"><strong>사당역</strong><br/><span class=\"stock\">1</span></a></td></tr><tr>\n",
       "<td class=\"store\"><strong>세종이마트</strong><br/><span class=\"stock\">0</span></td>\n",
       "<td class=\"store\"><strong>센텀시티</strong><br/><span class=\"stock\">0</span></td>\n",
       "<td class=\"store\"><strong>수원NC</strong><br/><span class=\"stock\">0</span></td></tr><tr>\n",
       "<td class=\"store\"><strong>스타필드고양</strong><br/><span class=\"stock\">0</span></td>\n",
       "<td class=\"store\"><strong>스타필드시티위례</strong><br/><span class=\"stock\">0</span></td>\n",
       "<td class=\"store\"><strong>스타필드안성</strong><br/><span class=\"stock\">0</span></td></tr><tr>\n",
       "<td class=\"store\"><a href=\"javascript:fLocationInfo(3600);\"><strong>스타필드코엑스몰</strong><br/><span class=\"stock\">1</span></a></td>\n",
       "<td class=\"store\"><strong>스타필드하남</strong><br/><span class=\"stock\">0</span></td>\n",
       "<td class=\"store\"><strong>신림타임스트림</strong><br/><span class=\"stock\">0</span></td></tr><tr>\n",
       "<td class=\"store\"><a href=\"javascript:fLocationInfo(3500);\"><strong>여의도IFC몰</strong><br/><span class=\"stock\">1</span></a></td>\n",
       "<td class=\"store\"><a href=\"javascript:fLocationInfo(3050);\"><strong>왕십리역</strong><br/><span class=\"stock\">1</span></a></td>\n",
       "<td class=\"store\"><a href=\"javascript:fLocationInfo(6750);\"><strong>용산아이파크몰</strong><br/><span class=\"stock\">2</span></a></td></tr><tr>\n",
       "<td class=\"store\"><a href=\"javascript:fLocationInfo(8400);\"><strong>유성</strong><br/><span class=\"stock\">1</span></a></td>\n",
       "<td class=\"store\"><a href=\"javascript:fLocationInfo(6400);\"><strong>의정부신세계</strong><br/><span class=\"stock\">3</span></a></td>\n",
       "<td class=\"store\"><strong>인천스퀘어원</strong><br/><span class=\"stock\">0</span></td></tr><tr>\n",
       "<td class=\"store\"><strong>인천터미널</strong><br/><span class=\"stock\">0</span></td>\n",
       "<td class=\"store\"><a href=\"javascript:fLocationInfo(3900);\"><strong>전주터미널</strong><br/><span class=\"stock\">1</span></a></td>\n",
       "<td class=\"store\"><a href=\"javascript:fLocationInfo(2000);\"><strong>종각종로</strong><br/><span class=\"stock\">1</span></a></td></tr><tr>\n",
       "<td class=\"store\"><strong>죽전이마트</strong><br/><span class=\"stock\">0</span></td>\n",
       "<td class=\"store\"><strong>천안</strong><br/><span class=\"stock\">0</span></td>\n",
       "<td class=\"store\"><a href=\"javascript:fLocationInfo(8200);\"><strong>청주</strong><br/><span class=\"stock\">2</span></a></td></tr><tr>\n",
       "<td class=\"store\"><a href=\"javascript:fLocationInfo(4700);\"><strong>홍대</strong><br/><span class=\"stock\">2</span></a></td>\n",
       "</tr></tbody>\n",
       "</table>\n",
       "<button class=\"close-table\" onclick=\"javascript:swtbranchview(2)\" type=\"button\">닫기<i></i></button>\n",
       "</body>\n",
       "</html>"
      ]
     },
     "execution_count": 67,
     "metadata": {},
     "output_type": "execute_result"
    }
   ],
   "source": [
    "soup"
   ]
  },
  {
   "cell_type": "code",
   "execution_count": null,
   "metadata": {},
   "outputs": [],
   "source": [
    "# 번호, 가격만 가져오면 된다."
   ]
  },
  {
   "cell_type": "markdown",
   "metadata": {},
   "source": [
    "# 함수화"
   ]
  },
  {
   "cell_type": "code",
   "execution_count": 72,
   "metadata": {},
   "outputs": [],
   "source": [
    "code = 101250576\n",
    "price = 30000"
   ]
  },
  {
   "cell_type": "code",
   "execution_count": 69,
   "metadata": {},
   "outputs": [],
   "source": [
    "def yp_stock(code, price):\n",
    "    url = f'https://www.ypbooks.co.kr/ypbooks_mobile/sub/mBranchStockLoc.jsp?bookCd={code}&bookCost={price}'\n",
    "    resp = requests.get(url)\n",
    "    soup = BeautifulSoup(resp.text, 'html.parser')\n",
    "    stores_stock = {}\n",
    "    store_elements = soup.find_all('td', class_='store')\n",
    "\n",
    "    for element in store_elements:\n",
    "        store_name = element.find('strong').text\n",
    "        stock = element.find('span', class_='stock').text\n",
    "        stores_stock[store_name] = stock\n",
    "    \n",
    "    return stores_stock\n"
   ]
  },
  {
   "cell_type": "code",
   "execution_count": 73,
   "metadata": {},
   "outputs": [],
   "source": [
    "check = yp_stock(code, price)"
   ]
  },
  {
   "cell_type": "code",
   "execution_count": 74,
   "metadata": {},
   "outputs": [
    {
     "data": {
      "text/plain": [
       "{'가산마리오': '1',\n",
       " '강남역': '2',\n",
       " '강남포스코': '1',\n",
       " '경산이마트': '0',\n",
       " '광복롯데': '0',\n",
       " '광주터미널': '1',\n",
       " '구리롯데아울렛': '0',\n",
       " '구미롯데마트': '1',\n",
       " '군산롯데아울렛': '1',\n",
       " '김포공항롯데': '1',\n",
       " '대구역롯데': '0',\n",
       " '대전터미널': '2',\n",
       " '동탄롯데': '1',\n",
       " '마산롯데': '0',\n",
       " '목포터미널': '0',\n",
       " '미아롯데': '0',\n",
       " '부산남포': '0',\n",
       " '부산대': '1',\n",
       " '부산하단': '1',\n",
       " '분당서현': '4',\n",
       " '사당역': '1',\n",
       " '세종이마트': '0',\n",
       " '센텀시티': '0',\n",
       " '수원NC': '0',\n",
       " '스타필드고양': '0',\n",
       " '스타필드시티위례': '0',\n",
       " '스타필드안성': '0',\n",
       " '스타필드코엑스몰': '1',\n",
       " '스타필드하남': '0',\n",
       " '신림타임스트림': '0',\n",
       " '여의도IFC몰': '1',\n",
       " '왕십리역': '1',\n",
       " '용산아이파크몰': '2',\n",
       " '유성': '1',\n",
       " '의정부신세계': '3',\n",
       " '인천스퀘어원': '0',\n",
       " '인천터미널': '0',\n",
       " '전주터미널': '1',\n",
       " '종각종로': '1',\n",
       " '죽전이마트': '0',\n",
       " '천안': '0',\n",
       " '청주': '2',\n",
       " '홍대': '2'}"
      ]
     },
     "execution_count": 74,
     "metadata": {},
     "output_type": "execute_result"
    }
   ],
   "source": [
    "check # 0.2초 걸림"
   ]
  },
  {
   "cell_type": "code",
   "execution_count": null,
   "metadata": {},
   "outputs": [],
   "source": []
  }
 ],
 "metadata": {
  "kernelspec": {
   "display_name": "els",
   "language": "python",
   "name": "python3"
  },
  "language_info": {
   "codemirror_mode": {
    "name": "ipython",
    "version": 3
   },
   "file_extension": ".py",
   "mimetype": "text/x-python",
   "name": "python",
   "nbconvert_exporter": "python",
   "pygments_lexer": "ipython3",
   "version": "3.8.18"
  }
 },
 "nbformat": 4,
 "nbformat_minor": 2
}
