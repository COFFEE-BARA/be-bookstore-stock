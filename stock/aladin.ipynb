{
 "cells": [
  {
   "cell_type": "code",
   "execution_count": 1,
   "metadata": {},
   "outputs": [],
   "source": [
    "import requests\n",
    "from bs4 import BeautifulSoup"
   ]
  },
  {
   "cell_type": "code",
   "execution_count": 2,
   "metadata": {},
   "outputs": [],
   "source": [
    "url = 'https://www.aladin.co.kr/search/wsearchresult.aspx?SearchTarget=UsedStore&KeyTag=&SearchWord=9791163034735'\n",
    "\n",
    "resp = requests.get(url)\n",
    "\n",
    "soup = BeautifulSoup(resp.text, 'html.parser')"
   ]
  },
  {
   "cell_type": "code",
   "execution_count": 4,
   "metadata": {},
   "outputs": [],
   "source": [
    "# 결과를 저장할 딕셔너리\n",
    "stores_stock = {}\n",
    "\n",
    "# 'usedshop_off_text3' 클래스를 가진 모든 a 태그 찾기\n",
    "store_elements = soup.find_all('a', class_='usedshop_off_text3')\n",
    "\n",
    "for element in store_elements:\n",
    "    store_name = element.text.strip()\n",
    "    stores_stock[store_name] = '1'\n"
   ]
  },
  {
   "cell_type": "code",
   "execution_count": 5,
   "metadata": {},
   "outputs": [
    {
     "data": {
      "text/plain": [
       "{'강남점': '1',\n",
       " '대구동성로점': '1',\n",
       " '분당야탑점': '1',\n",
       " '신촌점': '1',\n",
       " '이수역점': '1',\n",
       " '인천계산홈플러스점': '1',\n",
       " '인천청라점': '1',\n",
       " '잠실새내역점': '1',\n",
       " '전주점': '1',\n",
       " '창원상남점': '1'}"
      ]
     },
     "execution_count": 5,
     "metadata": {},
     "output_type": "execute_result"
    }
   ],
   "source": [
    "stores_stock"
   ]
  },
  {
   "cell_type": "code",
   "execution_count": 6,
   "metadata": {},
   "outputs": [],
   "source": [
    "# 없는 경우 테스트\n",
    "url = 'https://www.aladin.co.kr/search/wsearchresult.aspx?SearchTarget=UsedStore&KeyTag=&SearchWord=%EB%8A%90%EB%A6%AC%EA%B2%8C+%EB%82%98%EC%9D%B4+%EB%93%9C%EB%8A%94+%EC%8A%B5%EA%B4%80'\n",
    "\n",
    "resp = requests.get(url)\n",
    "\n",
    "soup = BeautifulSoup(resp.text, 'html.parser')"
   ]
  },
  {
   "cell_type": "code",
   "execution_count": 9,
   "metadata": {},
   "outputs": [],
   "source": [
    "# 결과를 저장할 딕셔너리\n",
    "stores_stock = {}\n",
    "\n",
    "# 'usedshop_off_text3' 클래스를 가진 모든 a 태그 찾기\n",
    "store_elements = soup.find_all('a', class_='usedshop_off_text3')\n",
    "\n",
    "for element in store_elements:\n",
    "    store_name = element.text.strip()\n",
    "    stores_stock[store_name] = '1'\n"
   ]
  },
  {
   "cell_type": "code",
   "execution_count": 10,
   "metadata": {},
   "outputs": [
    {
     "data": {
      "text/plain": [
       "{}"
      ]
     },
     "execution_count": 10,
     "metadata": {},
     "output_type": "execute_result"
    }
   ],
   "source": [
    "stores_stock"
   ]
  },
  {
   "cell_type": "markdown",
   "metadata": {},
   "source": [
    "# 함수화"
   ]
  },
  {
   "cell_type": "code",
   "execution_count": 11,
   "metadata": {},
   "outputs": [],
   "source": [
    "def aladin_check(code):\n",
    "    url = f'https://www.aladin.co.kr/search/wsearchresult.aspx?SearchTarget=UsedStore&KeyTag=&SearchWord={code}'\n",
    "    resp = requests.get(url)\n",
    "    soup = BeautifulSoup(resp.text, 'html.parser')\n",
    "    stores_stock = {}\n",
    "    store_elements = soup.find_all('a', class_='usedshop_off_text3')\n",
    "\n",
    "    for element in store_elements:\n",
    "        store_name = element.text.strip()\n",
    "        stores_stock[store_name] = '1'\n",
    "\n",
    "    return stores_stock"
   ]
  },
  {
   "cell_type": "code",
   "execution_count": 12,
   "metadata": {},
   "outputs": [],
   "source": [
    "code = '9791163032212'"
   ]
  },
  {
   "cell_type": "code",
   "execution_count": 13,
   "metadata": {},
   "outputs": [],
   "source": [
    "check = aladin_check(code)"
   ]
  },
  {
   "cell_type": "code",
   "execution_count": 14,
   "metadata": {},
   "outputs": [
    {
     "data": {
      "text/plain": [
       "{'강남점': '1',\n",
       " '강서홈플러스점': '1',\n",
       " '건대점': '1',\n",
       " '광주상무점': '1',\n",
       " '광주충장로점': '1',\n",
       " '대구동성로점': '1',\n",
       " '대전시청역점': '1',\n",
       " '대학로점': '1',\n",
       " '동탄점': '1',\n",
       " '마산합성점': '1',\n",
       " '범계점': '1',\n",
       " '부산 경성대.부경대역점': '1',\n",
       " '부산덕천점': '1',\n",
       " '부산서면점': '1',\n",
       " '부산센텀점': '1',\n",
       " '부천점': '1',\n",
       " '분당서현점': '1',\n",
       " '분당야탑점': '1',\n",
       " '산본점': '1',\n",
       " '수지점': '1',\n",
       " '신림점': '1',\n",
       " '연신내점': '1',\n",
       " '영등포점': '1',\n",
       " '울산점': '1',\n",
       " '이수역점': '1',\n",
       " '인천계산홈플러스점': '1',\n",
       " '인천구월점': '1',\n",
       " '인천송도점': '1',\n",
       " '일산점': '1',\n",
       " '잠실롯데월드타워점': '1',\n",
       " '전주점': '1',\n",
       " '종로점': '1',\n",
       " '천안신불당점': '1',\n",
       " '청주점': '1',\n",
       " '화정점': '1'}"
      ]
     },
     "execution_count": 14,
     "metadata": {},
     "output_type": "execute_result"
    }
   ],
   "source": [
    "check # 1초 걸림 굳"
   ]
  },
  {
   "cell_type": "code",
   "execution_count": null,
   "metadata": {},
   "outputs": [],
   "source": []
  }
 ],
 "metadata": {
  "kernelspec": {
   "display_name": "els",
   "language": "python",
   "name": "python3"
  },
  "language_info": {
   "codemirror_mode": {
    "name": "ipython",
    "version": 3
   },
   "file_extension": ".py",
   "mimetype": "text/x-python",
   "name": "python",
   "nbconvert_exporter": "python",
   "pygments_lexer": "ipython3",
   "version": "3.8.18"
  }
 },
 "nbformat": 4,
 "nbformat_minor": 2
}
